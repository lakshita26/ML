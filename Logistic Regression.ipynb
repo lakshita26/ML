{
 "cells": [
  {
   "cell_type": "code",
   "execution_count": 1,
   "id": "8a95f7df",
   "metadata": {},
   "outputs": [],
   "source": [
    "import numpy as np\n",
    "from sklearn.linear_model import LogisticRegression\n",
    "from sklearn.metrics import classification_report, confusion_matrix"
   ]
  },
  {
   "cell_type": "code",
   "execution_count": 17,
   "id": "3528dd45",
   "metadata": {},
   "outputs": [],
   "source": [
    "x=np.arange(10).reshape(-1,1)\n",
    "y=([0,1,0,1,0,1,0,0,1,1])"
   ]
  },
  {
   "cell_type": "code",
   "execution_count": 43,
   "id": "57b8b625",
   "metadata": {},
   "outputs": [
    {
     "name": "stdout",
     "output_type": "stream",
     "text": [
      "[[0]\n",
      " [1]\n",
      " [2]\n",
      " [3]\n",
      " [4]\n",
      " [5]\n",
      " [6]\n",
      " [7]\n",
      " [8]\n",
      " [9]] [0, 1, 0, 1, 0, 1, 0, 0, 1, 1]\n"
     ]
    }
   ],
   "source": [
    "print(x, y)"
   ]
  },
  {
   "cell_type": "code",
   "execution_count": 19,
   "id": "037aa085",
   "metadata": {},
   "outputs": [
    {
     "data": {
      "text/html": [
       "<style>#sk-container-id-3 {color: black;background-color: white;}#sk-container-id-3 pre{padding: 0;}#sk-container-id-3 div.sk-toggleable {background-color: white;}#sk-container-id-3 label.sk-toggleable__label {cursor: pointer;display: block;width: 100%;margin-bottom: 0;padding: 0.3em;box-sizing: border-box;text-align: center;}#sk-container-id-3 label.sk-toggleable__label-arrow:before {content: \"▸\";float: left;margin-right: 0.25em;color: #696969;}#sk-container-id-3 label.sk-toggleable__label-arrow:hover:before {color: black;}#sk-container-id-3 div.sk-estimator:hover label.sk-toggleable__label-arrow:before {color: black;}#sk-container-id-3 div.sk-toggleable__content {max-height: 0;max-width: 0;overflow: hidden;text-align: left;background-color: #f0f8ff;}#sk-container-id-3 div.sk-toggleable__content pre {margin: 0.2em;color: black;border-radius: 0.25em;background-color: #f0f8ff;}#sk-container-id-3 input.sk-toggleable__control:checked~div.sk-toggleable__content {max-height: 200px;max-width: 100%;overflow: auto;}#sk-container-id-3 input.sk-toggleable__control:checked~label.sk-toggleable__label-arrow:before {content: \"▾\";}#sk-container-id-3 div.sk-estimator input.sk-toggleable__control:checked~label.sk-toggleable__label {background-color: #d4ebff;}#sk-container-id-3 div.sk-label input.sk-toggleable__control:checked~label.sk-toggleable__label {background-color: #d4ebff;}#sk-container-id-3 input.sk-hidden--visually {border: 0;clip: rect(1px 1px 1px 1px);clip: rect(1px, 1px, 1px, 1px);height: 1px;margin: -1px;overflow: hidden;padding: 0;position: absolute;width: 1px;}#sk-container-id-3 div.sk-estimator {font-family: monospace;background-color: #f0f8ff;border: 1px dotted black;border-radius: 0.25em;box-sizing: border-box;margin-bottom: 0.5em;}#sk-container-id-3 div.sk-estimator:hover {background-color: #d4ebff;}#sk-container-id-3 div.sk-parallel-item::after {content: \"\";width: 100%;border-bottom: 1px solid gray;flex-grow: 1;}#sk-container-id-3 div.sk-label:hover label.sk-toggleable__label {background-color: #d4ebff;}#sk-container-id-3 div.sk-serial::before {content: \"\";position: absolute;border-left: 1px solid gray;box-sizing: border-box;top: 0;bottom: 0;left: 50%;z-index: 0;}#sk-container-id-3 div.sk-serial {display: flex;flex-direction: column;align-items: center;background-color: white;padding-right: 0.2em;padding-left: 0.2em;position: relative;}#sk-container-id-3 div.sk-item {position: relative;z-index: 1;}#sk-container-id-3 div.sk-parallel {display: flex;align-items: stretch;justify-content: center;background-color: white;position: relative;}#sk-container-id-3 div.sk-item::before, #sk-container-id-3 div.sk-parallel-item::before {content: \"\";position: absolute;border-left: 1px solid gray;box-sizing: border-box;top: 0;bottom: 0;left: 50%;z-index: -1;}#sk-container-id-3 div.sk-parallel-item {display: flex;flex-direction: column;z-index: 1;position: relative;background-color: white;}#sk-container-id-3 div.sk-parallel-item:first-child::after {align-self: flex-end;width: 50%;}#sk-container-id-3 div.sk-parallel-item:last-child::after {align-self: flex-start;width: 50%;}#sk-container-id-3 div.sk-parallel-item:only-child::after {width: 0;}#sk-container-id-3 div.sk-dashed-wrapped {border: 1px dashed gray;margin: 0 0.4em 0.5em 0.4em;box-sizing: border-box;padding-bottom: 0.4em;background-color: white;}#sk-container-id-3 div.sk-label label {font-family: monospace;font-weight: bold;display: inline-block;line-height: 1.2em;}#sk-container-id-3 div.sk-label-container {text-align: center;}#sk-container-id-3 div.sk-container {/* jupyter's `normalize.less` sets `[hidden] { display: none; }` but bootstrap.min.css set `[hidden] { display: none !important; }` so we also need the `!important` here to be able to override the default hidden behavior on the sphinx rendered scikit-learn.org. See: https://github.com/scikit-learn/scikit-learn/issues/21755 */display: inline-block !important;position: relative;}#sk-container-id-3 div.sk-text-repr-fallback {display: none;}</style><div id=\"sk-container-id-3\" class=\"sk-top-container\"><div class=\"sk-text-repr-fallback\"><pre>LogisticRegression(C=10.0, random_state=0, solver=&#x27;liblinear&#x27;)</pre><b>In a Jupyter environment, please rerun this cell to show the HTML representation or trust the notebook. <br />On GitHub, the HTML representation is unable to render, please try loading this page with nbviewer.org.</b></div><div class=\"sk-container\" hidden><div class=\"sk-item\"><div class=\"sk-estimator sk-toggleable\"><input class=\"sk-toggleable__control sk-hidden--visually\" id=\"sk-estimator-id-3\" type=\"checkbox\" checked><label for=\"sk-estimator-id-3\" class=\"sk-toggleable__label sk-toggleable__label-arrow\">LogisticRegression</label><div class=\"sk-toggleable__content\"><pre>LogisticRegression(C=10.0, random_state=0, solver=&#x27;liblinear&#x27;)</pre></div></div></div></div></div>"
      ],
      "text/plain": [
       "LogisticRegression(C=10.0, random_state=0, solver='liblinear')"
      ]
     },
     "execution_count": 19,
     "metadata": {},
     "output_type": "execute_result"
    }
   ],
   "source": [
    "log=LogisticRegression(solver='liblinear', C=10.0, random_state=0)\n",
    "log.fit(x,y)"
   ]
  },
  {
   "cell_type": "code",
   "execution_count": 20,
   "id": "23b40063",
   "metadata": {},
   "outputs": [
    {
     "data": {
      "text/plain": [
       "array([-0.68524789])"
      ]
     },
     "execution_count": 20,
     "metadata": {},
     "output_type": "execute_result"
    }
   ],
   "source": [
    "log.intercept_"
   ]
  },
  {
   "cell_type": "code",
   "execution_count": 21,
   "id": "7f976746",
   "metadata": {},
   "outputs": [
    {
     "data": {
      "text/plain": [
       "array([[0.15868212]])"
      ]
     },
     "execution_count": 21,
     "metadata": {},
     "output_type": "execute_result"
    }
   ],
   "source": [
    "log.coef_"
   ]
  },
  {
   "cell_type": "code",
   "execution_count": 22,
   "id": "0fb5b8c0",
   "metadata": {},
   "outputs": [
    {
     "data": {
      "text/plain": [
       "array([[0.66490896, 0.33509104],\n",
       "       [0.62868178, 0.37131822],\n",
       "       [0.59094749, 0.40905251],\n",
       "       [0.55211047, 0.44788953],\n",
       "       [0.51262716, 0.48737284],\n",
       "       [0.47298565, 0.52701435],\n",
       "       [0.43368184, 0.56631816],\n",
       "       [0.39519495, 0.60480505],\n",
       "       [0.35796466, 0.64203534],\n",
       "       [0.32237224, 0.67762776]])"
      ]
     },
     "execution_count": 22,
     "metadata": {},
     "output_type": "execute_result"
    }
   ],
   "source": [
    "# Probability og giving 0 vs 1 [0, 1]\n",
    "p_pred=log.predict_proba(x)\n",
    "p_pred"
   ]
  },
  {
   "cell_type": "code",
   "execution_count": 23,
   "id": "29f33298",
   "metadata": {},
   "outputs": [
    {
     "data": {
      "text/plain": [
       "array([0, 0, 0, 0, 0, 1, 1, 1, 1, 1])"
      ]
     },
     "execution_count": 23,
     "metadata": {},
     "output_type": "execute_result"
    }
   ],
   "source": [
    "y_pred=log.predict(x)\n",
    "y_pred"
   ]
  },
  {
   "cell_type": "code",
   "execution_count": 24,
   "id": "7edadf4b",
   "metadata": {},
   "outputs": [
    {
     "data": {
      "text/plain": [
       "0.6"
      ]
     },
     "execution_count": 24,
     "metadata": {},
     "output_type": "execute_result"
    }
   ],
   "source": [
    "score=log.score(x, y)\n",
    "score"
   ]
  },
  {
   "cell_type": "code",
   "execution_count": 28,
   "id": "ebdd77de",
   "metadata": {},
   "outputs": [
    {
     "data": {
      "text/plain": [
       "array([[3, 2],\n",
       "       [2, 3]], dtype=int64)"
      ]
     },
     "execution_count": 28,
     "metadata": {},
     "output_type": "execute_result"
    }
   ],
   "source": [
    "conf_mat=confusion_matrix(y, y_pred)\n",
    "conf_mat\n",
    "\n",
    "# TP-> 3  FP-> 2\n",
    "# FN-> 2  TN-> 3"
   ]
  },
  {
   "cell_type": "code",
   "execution_count": 40,
   "id": "5a50a591",
   "metadata": {},
   "outputs": [
    {
     "name": "stdout",
     "output_type": "stream",
     "text": [
      "              precision    recall  f1-score   support\n",
      "\n",
      "           0       0.60      0.60      0.60         5\n",
      "           1       0.60      0.60      0.60         5\n",
      "\n",
      "    accuracy                           0.60        10\n",
      "   macro avg       0.60      0.60      0.60        10\n",
      "weighted avg       0.60      0.60      0.60        10\n",
      "\n"
     ]
    }
   ],
   "source": [
    "report=classification_report(y, y_pred)\n",
    "print(report)"
   ]
  },
  {
   "cell_type": "markdown",
   "id": "78887622",
   "metadata": {},
   "source": [
    "# Using dataset"
   ]
  },
  {
   "cell_type": "code",
   "execution_count": 6,
   "id": "68a3e956",
   "metadata": {},
   "outputs": [],
   "source": [
    "from sklearn.datasets import load_breast_cancer\n",
    "import pandas as pd"
   ]
  },
  {
   "cell_type": "code",
   "execution_count": 14,
   "id": "609d9eb2",
   "metadata": {},
   "outputs": [],
   "source": [
    "df=load_breast_cancer()"
   ]
  },
  {
   "cell_type": "code",
   "execution_count": 15,
   "id": "d755a321",
   "metadata": {},
   "outputs": [],
   "source": [
    "x=pd.DataFrame(df['data'], columns=df['feature_names'])"
   ]
  },
  {
   "cell_type": "code",
   "execution_count": 16,
   "id": "7eb58393",
   "metadata": {},
   "outputs": [
    {
     "data": {
      "text/html": [
       "<div>\n",
       "<style scoped>\n",
       "    .dataframe tbody tr th:only-of-type {\n",
       "        vertical-align: middle;\n",
       "    }\n",
       "\n",
       "    .dataframe tbody tr th {\n",
       "        vertical-align: top;\n",
       "    }\n",
       "\n",
       "    .dataframe thead th {\n",
       "        text-align: right;\n",
       "    }\n",
       "</style>\n",
       "<table border=\"1\" class=\"dataframe\">\n",
       "  <thead>\n",
       "    <tr style=\"text-align: right;\">\n",
       "      <th></th>\n",
       "      <th>mean radius</th>\n",
       "      <th>mean texture</th>\n",
       "      <th>mean perimeter</th>\n",
       "      <th>mean area</th>\n",
       "      <th>mean smoothness</th>\n",
       "      <th>mean compactness</th>\n",
       "      <th>mean concavity</th>\n",
       "      <th>mean concave points</th>\n",
       "      <th>mean symmetry</th>\n",
       "      <th>mean fractal dimension</th>\n",
       "      <th>...</th>\n",
       "      <th>worst radius</th>\n",
       "      <th>worst texture</th>\n",
       "      <th>worst perimeter</th>\n",
       "      <th>worst area</th>\n",
       "      <th>worst smoothness</th>\n",
       "      <th>worst compactness</th>\n",
       "      <th>worst concavity</th>\n",
       "      <th>worst concave points</th>\n",
       "      <th>worst symmetry</th>\n",
       "      <th>worst fractal dimension</th>\n",
       "    </tr>\n",
       "  </thead>\n",
       "  <tbody>\n",
       "    <tr>\n",
       "      <th>0</th>\n",
       "      <td>17.99</td>\n",
       "      <td>10.38</td>\n",
       "      <td>122.80</td>\n",
       "      <td>1001.0</td>\n",
       "      <td>0.11840</td>\n",
       "      <td>0.27760</td>\n",
       "      <td>0.3001</td>\n",
       "      <td>0.14710</td>\n",
       "      <td>0.2419</td>\n",
       "      <td>0.07871</td>\n",
       "      <td>...</td>\n",
       "      <td>25.38</td>\n",
       "      <td>17.33</td>\n",
       "      <td>184.60</td>\n",
       "      <td>2019.0</td>\n",
       "      <td>0.1622</td>\n",
       "      <td>0.6656</td>\n",
       "      <td>0.7119</td>\n",
       "      <td>0.2654</td>\n",
       "      <td>0.4601</td>\n",
       "      <td>0.11890</td>\n",
       "    </tr>\n",
       "    <tr>\n",
       "      <th>1</th>\n",
       "      <td>20.57</td>\n",
       "      <td>17.77</td>\n",
       "      <td>132.90</td>\n",
       "      <td>1326.0</td>\n",
       "      <td>0.08474</td>\n",
       "      <td>0.07864</td>\n",
       "      <td>0.0869</td>\n",
       "      <td>0.07017</td>\n",
       "      <td>0.1812</td>\n",
       "      <td>0.05667</td>\n",
       "      <td>...</td>\n",
       "      <td>24.99</td>\n",
       "      <td>23.41</td>\n",
       "      <td>158.80</td>\n",
       "      <td>1956.0</td>\n",
       "      <td>0.1238</td>\n",
       "      <td>0.1866</td>\n",
       "      <td>0.2416</td>\n",
       "      <td>0.1860</td>\n",
       "      <td>0.2750</td>\n",
       "      <td>0.08902</td>\n",
       "    </tr>\n",
       "    <tr>\n",
       "      <th>2</th>\n",
       "      <td>19.69</td>\n",
       "      <td>21.25</td>\n",
       "      <td>130.00</td>\n",
       "      <td>1203.0</td>\n",
       "      <td>0.10960</td>\n",
       "      <td>0.15990</td>\n",
       "      <td>0.1974</td>\n",
       "      <td>0.12790</td>\n",
       "      <td>0.2069</td>\n",
       "      <td>0.05999</td>\n",
       "      <td>...</td>\n",
       "      <td>23.57</td>\n",
       "      <td>25.53</td>\n",
       "      <td>152.50</td>\n",
       "      <td>1709.0</td>\n",
       "      <td>0.1444</td>\n",
       "      <td>0.4245</td>\n",
       "      <td>0.4504</td>\n",
       "      <td>0.2430</td>\n",
       "      <td>0.3613</td>\n",
       "      <td>0.08758</td>\n",
       "    </tr>\n",
       "    <tr>\n",
       "      <th>3</th>\n",
       "      <td>11.42</td>\n",
       "      <td>20.38</td>\n",
       "      <td>77.58</td>\n",
       "      <td>386.1</td>\n",
       "      <td>0.14250</td>\n",
       "      <td>0.28390</td>\n",
       "      <td>0.2414</td>\n",
       "      <td>0.10520</td>\n",
       "      <td>0.2597</td>\n",
       "      <td>0.09744</td>\n",
       "      <td>...</td>\n",
       "      <td>14.91</td>\n",
       "      <td>26.50</td>\n",
       "      <td>98.87</td>\n",
       "      <td>567.7</td>\n",
       "      <td>0.2098</td>\n",
       "      <td>0.8663</td>\n",
       "      <td>0.6869</td>\n",
       "      <td>0.2575</td>\n",
       "      <td>0.6638</td>\n",
       "      <td>0.17300</td>\n",
       "    </tr>\n",
       "    <tr>\n",
       "      <th>4</th>\n",
       "      <td>20.29</td>\n",
       "      <td>14.34</td>\n",
       "      <td>135.10</td>\n",
       "      <td>1297.0</td>\n",
       "      <td>0.10030</td>\n",
       "      <td>0.13280</td>\n",
       "      <td>0.1980</td>\n",
       "      <td>0.10430</td>\n",
       "      <td>0.1809</td>\n",
       "      <td>0.05883</td>\n",
       "      <td>...</td>\n",
       "      <td>22.54</td>\n",
       "      <td>16.67</td>\n",
       "      <td>152.20</td>\n",
       "      <td>1575.0</td>\n",
       "      <td>0.1374</td>\n",
       "      <td>0.2050</td>\n",
       "      <td>0.4000</td>\n",
       "      <td>0.1625</td>\n",
       "      <td>0.2364</td>\n",
       "      <td>0.07678</td>\n",
       "    </tr>\n",
       "  </tbody>\n",
       "</table>\n",
       "<p>5 rows × 30 columns</p>\n",
       "</div>"
      ],
      "text/plain": [
       "   mean radius  mean texture  mean perimeter  mean area  mean smoothness  \\\n",
       "0        17.99         10.38          122.80     1001.0          0.11840   \n",
       "1        20.57         17.77          132.90     1326.0          0.08474   \n",
       "2        19.69         21.25          130.00     1203.0          0.10960   \n",
       "3        11.42         20.38           77.58      386.1          0.14250   \n",
       "4        20.29         14.34          135.10     1297.0          0.10030   \n",
       "\n",
       "   mean compactness  mean concavity  mean concave points  mean symmetry  \\\n",
       "0           0.27760          0.3001              0.14710         0.2419   \n",
       "1           0.07864          0.0869              0.07017         0.1812   \n",
       "2           0.15990          0.1974              0.12790         0.2069   \n",
       "3           0.28390          0.2414              0.10520         0.2597   \n",
       "4           0.13280          0.1980              0.10430         0.1809   \n",
       "\n",
       "   mean fractal dimension  ...  worst radius  worst texture  worst perimeter  \\\n",
       "0                 0.07871  ...         25.38          17.33           184.60   \n",
       "1                 0.05667  ...         24.99          23.41           158.80   \n",
       "2                 0.05999  ...         23.57          25.53           152.50   \n",
       "3                 0.09744  ...         14.91          26.50            98.87   \n",
       "4                 0.05883  ...         22.54          16.67           152.20   \n",
       "\n",
       "   worst area  worst smoothness  worst compactness  worst concavity  \\\n",
       "0      2019.0            0.1622             0.6656           0.7119   \n",
       "1      1956.0            0.1238             0.1866           0.2416   \n",
       "2      1709.0            0.1444             0.4245           0.4504   \n",
       "3       567.7            0.2098             0.8663           0.6869   \n",
       "4      1575.0            0.1374             0.2050           0.4000   \n",
       "\n",
       "   worst concave points  worst symmetry  worst fractal dimension  \n",
       "0                0.2654          0.4601                  0.11890  \n",
       "1                0.1860          0.2750                  0.08902  \n",
       "2                0.2430          0.3613                  0.08758  \n",
       "3                0.2575          0.6638                  0.17300  \n",
       "4                0.1625          0.2364                  0.07678  \n",
       "\n",
       "[5 rows x 30 columns]"
      ]
     },
     "execution_count": 16,
     "metadata": {},
     "output_type": "execute_result"
    }
   ],
   "source": [
    "x.head()"
   ]
  },
  {
   "cell_type": "code",
   "execution_count": 10,
   "id": "dbfc7640",
   "metadata": {},
   "outputs": [
    {
     "data": {
      "text/html": [
       "<div>\n",
       "<style scoped>\n",
       "    .dataframe tbody tr th:only-of-type {\n",
       "        vertical-align: middle;\n",
       "    }\n",
       "\n",
       "    .dataframe tbody tr th {\n",
       "        vertical-align: top;\n",
       "    }\n",
       "\n",
       "    .dataframe thead th {\n",
       "        text-align: right;\n",
       "    }\n",
       "</style>\n",
       "<table border=\"1\" class=\"dataframe\">\n",
       "  <thead>\n",
       "    <tr style=\"text-align: right;\">\n",
       "      <th></th>\n",
       "      <th>target</th>\n",
       "    </tr>\n",
       "  </thead>\n",
       "  <tbody>\n",
       "    <tr>\n",
       "      <th>0</th>\n",
       "      <td>0</td>\n",
       "    </tr>\n",
       "    <tr>\n",
       "      <th>1</th>\n",
       "      <td>0</td>\n",
       "    </tr>\n",
       "    <tr>\n",
       "      <th>2</th>\n",
       "      <td>0</td>\n",
       "    </tr>\n",
       "    <tr>\n",
       "      <th>3</th>\n",
       "      <td>0</td>\n",
       "    </tr>\n",
       "    <tr>\n",
       "      <th>4</th>\n",
       "      <td>0</td>\n",
       "    </tr>\n",
       "    <tr>\n",
       "      <th>...</th>\n",
       "      <td>...</td>\n",
       "    </tr>\n",
       "    <tr>\n",
       "      <th>564</th>\n",
       "      <td>0</td>\n",
       "    </tr>\n",
       "    <tr>\n",
       "      <th>565</th>\n",
       "      <td>0</td>\n",
       "    </tr>\n",
       "    <tr>\n",
       "      <th>566</th>\n",
       "      <td>0</td>\n",
       "    </tr>\n",
       "    <tr>\n",
       "      <th>567</th>\n",
       "      <td>0</td>\n",
       "    </tr>\n",
       "    <tr>\n",
       "      <th>568</th>\n",
       "      <td>1</td>\n",
       "    </tr>\n",
       "  </tbody>\n",
       "</table>\n",
       "<p>569 rows × 1 columns</p>\n",
       "</div>"
      ],
      "text/plain": [
       "     target\n",
       "0         0\n",
       "1         0\n",
       "2         0\n",
       "3         0\n",
       "4         0\n",
       "..      ...\n",
       "564       0\n",
       "565       0\n",
       "566       0\n",
       "567       0\n",
       "568       1\n",
       "\n",
       "[569 rows x 1 columns]"
      ]
     },
     "execution_count": 10,
     "metadata": {},
     "output_type": "execute_result"
    }
   ],
   "source": [
    "# Dependent features\n",
    "y=pd.DataFrame(data['target'], columns=[\"target\"])\n",
    "y"
   ]
  },
  {
   "cell_type": "code",
   "execution_count": 11,
   "id": "71e23e35",
   "metadata": {},
   "outputs": [
    {
     "data": {
      "text/plain": [
       "target\n",
       "1    357\n",
       "0    212\n",
       "Name: count, dtype: int64"
      ]
     },
     "execution_count": 11,
     "metadata": {},
     "output_type": "execute_result"
    }
   ],
   "source": [
    "# To check the balanced or not\n",
    "y['target'].value_counts()"
   ]
  },
  {
   "cell_type": "code",
   "execution_count": 12,
   "id": "7c029fbd",
   "metadata": {},
   "outputs": [],
   "source": [
    "from sklearn.model_selection import train_test_split"
   ]
  },
  {
   "cell_type": "code",
   "execution_count": 17,
   "id": "91bd1da6",
   "metadata": {},
   "outputs": [],
   "source": [
    "x_train, x_test, y_train, y_test=train_test_split(x, y, \n",
    "                                                  test_size=0.33, random_state=42)"
   ]
  },
  {
   "cell_type": "code",
   "execution_count": 18,
   "id": "9bdc4f49",
   "metadata": {},
   "outputs": [
    {
     "name": "stderr",
     "output_type": "stream",
     "text": [
      "C:\\ProgramData\\anaconda3\\Lib\\site-packages\\sklearn\\utils\\validation.py:1143: DataConversionWarning: A column-vector y was passed when a 1d array was expected. Please change the shape of y to (n_samples, ), for example using ravel().\n",
      "  y = column_or_1d(y, warn=True)\n"
     ]
    },
    {
     "data": {
      "text/html": [
       "<style>#sk-container-id-1 {color: black;background-color: white;}#sk-container-id-1 pre{padding: 0;}#sk-container-id-1 div.sk-toggleable {background-color: white;}#sk-container-id-1 label.sk-toggleable__label {cursor: pointer;display: block;width: 100%;margin-bottom: 0;padding: 0.3em;box-sizing: border-box;text-align: center;}#sk-container-id-1 label.sk-toggleable__label-arrow:before {content: \"▸\";float: left;margin-right: 0.25em;color: #696969;}#sk-container-id-1 label.sk-toggleable__label-arrow:hover:before {color: black;}#sk-container-id-1 div.sk-estimator:hover label.sk-toggleable__label-arrow:before {color: black;}#sk-container-id-1 div.sk-toggleable__content {max-height: 0;max-width: 0;overflow: hidden;text-align: left;background-color: #f0f8ff;}#sk-container-id-1 div.sk-toggleable__content pre {margin: 0.2em;color: black;border-radius: 0.25em;background-color: #f0f8ff;}#sk-container-id-1 input.sk-toggleable__control:checked~div.sk-toggleable__content {max-height: 200px;max-width: 100%;overflow: auto;}#sk-container-id-1 input.sk-toggleable__control:checked~label.sk-toggleable__label-arrow:before {content: \"▾\";}#sk-container-id-1 div.sk-estimator input.sk-toggleable__control:checked~label.sk-toggleable__label {background-color: #d4ebff;}#sk-container-id-1 div.sk-label input.sk-toggleable__control:checked~label.sk-toggleable__label {background-color: #d4ebff;}#sk-container-id-1 input.sk-hidden--visually {border: 0;clip: rect(1px 1px 1px 1px);clip: rect(1px, 1px, 1px, 1px);height: 1px;margin: -1px;overflow: hidden;padding: 0;position: absolute;width: 1px;}#sk-container-id-1 div.sk-estimator {font-family: monospace;background-color: #f0f8ff;border: 1px dotted black;border-radius: 0.25em;box-sizing: border-box;margin-bottom: 0.5em;}#sk-container-id-1 div.sk-estimator:hover {background-color: #d4ebff;}#sk-container-id-1 div.sk-parallel-item::after {content: \"\";width: 100%;border-bottom: 1px solid gray;flex-grow: 1;}#sk-container-id-1 div.sk-label:hover label.sk-toggleable__label {background-color: #d4ebff;}#sk-container-id-1 div.sk-serial::before {content: \"\";position: absolute;border-left: 1px solid gray;box-sizing: border-box;top: 0;bottom: 0;left: 50%;z-index: 0;}#sk-container-id-1 div.sk-serial {display: flex;flex-direction: column;align-items: center;background-color: white;padding-right: 0.2em;padding-left: 0.2em;position: relative;}#sk-container-id-1 div.sk-item {position: relative;z-index: 1;}#sk-container-id-1 div.sk-parallel {display: flex;align-items: stretch;justify-content: center;background-color: white;position: relative;}#sk-container-id-1 div.sk-item::before, #sk-container-id-1 div.sk-parallel-item::before {content: \"\";position: absolute;border-left: 1px solid gray;box-sizing: border-box;top: 0;bottom: 0;left: 50%;z-index: -1;}#sk-container-id-1 div.sk-parallel-item {display: flex;flex-direction: column;z-index: 1;position: relative;background-color: white;}#sk-container-id-1 div.sk-parallel-item:first-child::after {align-self: flex-end;width: 50%;}#sk-container-id-1 div.sk-parallel-item:last-child::after {align-self: flex-start;width: 50%;}#sk-container-id-1 div.sk-parallel-item:only-child::after {width: 0;}#sk-container-id-1 div.sk-dashed-wrapped {border: 1px dashed gray;margin: 0 0.4em 0.5em 0.4em;box-sizing: border-box;padding-bottom: 0.4em;background-color: white;}#sk-container-id-1 div.sk-label label {font-family: monospace;font-weight: bold;display: inline-block;line-height: 1.2em;}#sk-container-id-1 div.sk-label-container {text-align: center;}#sk-container-id-1 div.sk-container {/* jupyter's `normalize.less` sets `[hidden] { display: none; }` but bootstrap.min.css set `[hidden] { display: none !important; }` so we also need the `!important` here to be able to override the default hidden behavior on the sphinx rendered scikit-learn.org. See: https://github.com/scikit-learn/scikit-learn/issues/21755 */display: inline-block !important;position: relative;}#sk-container-id-1 div.sk-text-repr-fallback {display: none;}</style><div id=\"sk-container-id-1\" class=\"sk-top-container\"><div class=\"sk-text-repr-fallback\"><pre>LogisticRegression(C=10.0, random_state=0, solver=&#x27;liblinear&#x27;)</pre><b>In a Jupyter environment, please rerun this cell to show the HTML representation or trust the notebook. <br />On GitHub, the HTML representation is unable to render, please try loading this page with nbviewer.org.</b></div><div class=\"sk-container\" hidden><div class=\"sk-item\"><div class=\"sk-estimator sk-toggleable\"><input class=\"sk-toggleable__control sk-hidden--visually\" id=\"sk-estimator-id-1\" type=\"checkbox\" checked><label for=\"sk-estimator-id-1\" class=\"sk-toggleable__label sk-toggleable__label-arrow\">LogisticRegression</label><div class=\"sk-toggleable__content\"><pre>LogisticRegression(C=10.0, random_state=0, solver=&#x27;liblinear&#x27;)</pre></div></div></div></div></div>"
      ],
      "text/plain": [
       "LogisticRegression(C=10.0, random_state=0, solver='liblinear')"
      ]
     },
     "execution_count": 18,
     "metadata": {},
     "output_type": "execute_result"
    }
   ],
   "source": [
    "log=LogisticRegression(solver='liblinear', C=10.0, random_state=0)\n",
    "log.fit(x_train, y_train)"
   ]
  },
  {
   "cell_type": "code",
   "execution_count": 19,
   "id": "0c374cd0",
   "metadata": {},
   "outputs": [
    {
     "data": {
      "text/plain": [
       "array([0.9679875])"
      ]
     },
     "execution_count": 19,
     "metadata": {},
     "output_type": "execute_result"
    }
   ],
   "source": [
    "log.intercept_"
   ]
  },
  {
   "cell_type": "code",
   "execution_count": 20,
   "id": "ffe39cb0",
   "metadata": {},
   "outputs": [
    {
     "data": {
      "text/plain": [
       "array([[ 4.92996853,  0.43161787, -0.50142452, -0.01841706, -0.38063179,\n",
       "        -0.86166194, -1.58028969, -0.99422833, -0.63592606, -0.06187521,\n",
       "        -0.3762955 ,  3.95368557,  0.22591993, -0.18502761, -0.05556635,\n",
       "         0.05055563, -0.00801782, -0.10830183, -0.15225145,  0.01298489,\n",
       "         0.41943828, -0.77115516,  0.05909379, -0.01241642, -0.78781627,\n",
       "        -2.21935556, -3.38064395, -1.6411533 , -2.34326701, -0.21902675]])"
      ]
     },
     "execution_count": 20,
     "metadata": {},
     "output_type": "execute_result"
    }
   ],
   "source": [
    "log.coef_"
   ]
  },
  {
   "cell_type": "code",
   "execution_count": 22,
   "id": "c42c3d5e",
   "metadata": {},
   "outputs": [
    {
     "data": {
      "text/plain": [
       "array([[1.74585092e-01, 8.25414908e-01],\n",
       "       [9.99999996e-01, 4.29369279e-09],\n",
       "       [9.98996650e-01, 1.00335012e-03],\n",
       "       [5.19770082e-04, 9.99480230e-01],\n",
       "       [8.95286049e-05, 9.99910471e-01],\n",
       "       [1.00000000e+00, 4.70516120e-12],\n",
       "       [1.00000000e+00, 3.14199667e-14],\n",
       "       [9.94922535e-01, 5.07746479e-03],\n",
       "       [9.14149635e-03, 9.90858504e-01],\n",
       "       [3.78221476e-03, 9.96217785e-01],\n",
       "       [6.71511803e-02, 9.32848820e-01],\n",
       "       [9.99686825e-01, 3.13174529e-04],\n",
       "       [3.48920620e-03, 9.96510794e-01],\n",
       "       [9.73577488e-01, 2.64225120e-02],\n",
       "       [2.60583194e-03, 9.97394168e-01],\n",
       "       [9.98581640e-01, 1.41835979e-03],\n",
       "       [7.69949701e-04, 9.99230050e-01],\n",
       "       [5.86828444e-06, 9.99994132e-01],\n",
       "       [1.86574010e-04, 9.99813426e-01],\n",
       "       [9.99999998e-01, 1.94244383e-09],\n",
       "       [8.67909221e-02, 9.13209078e-01],\n",
       "       [4.22931151e-03, 9.95770688e-01],\n",
       "       [1.00000000e+00, 1.82030450e-11],\n",
       "       [1.78008629e-03, 9.98219914e-01],\n",
       "       [2.84330212e-03, 9.97156698e-01],\n",
       "       [1.79525607e-04, 9.99820474e-01],\n",
       "       [1.24922406e-03, 9.98750776e-01],\n",
       "       [1.84025867e-03, 9.98159741e-01],\n",
       "       [3.46692272e-03, 9.96533077e-01],\n",
       "       [9.99999998e-01, 1.78435579e-09],\n",
       "       [3.14938737e-03, 9.96850613e-01],\n",
       "       [4.10887880e-04, 9.99589112e-01],\n",
       "       [5.48629962e-03, 9.94513700e-01],\n",
       "       [4.77248013e-03, 9.95227520e-01],\n",
       "       [5.54722722e-04, 9.99445277e-01],\n",
       "       [2.03324029e-03, 9.97966760e-01],\n",
       "       [9.96738770e-01, 3.26122964e-03],\n",
       "       [1.26083312e-03, 9.98739167e-01],\n",
       "       [9.99994264e-01, 5.73550092e-06],\n",
       "       [2.87826834e-01, 7.12173166e-01],\n",
       "       [4.56525117e-04, 9.99543475e-01],\n",
       "       [9.99703785e-01, 2.96214985e-04],\n",
       "       [1.61068433e-03, 9.98389316e-01],\n",
       "       [7.91597999e-03, 9.92084020e-01],\n",
       "       [9.12936494e-05, 9.99908706e-01],\n",
       "       [9.43329859e-02, 9.05667014e-01],\n",
       "       [5.45646664e-04, 9.99454353e-01],\n",
       "       [2.39684446e-04, 9.99760316e-01],\n",
       "       [2.04435814e-01, 7.95564186e-01],\n",
       "       [8.07479883e-04, 9.99192520e-01],\n",
       "       [9.99922563e-01, 7.74374207e-05],\n",
       "       [1.00000000e+00, 2.23586080e-11],\n",
       "       [3.07443695e-01, 6.92556305e-01],\n",
       "       [8.86250717e-06, 9.99991137e-01],\n",
       "       [1.19128013e-03, 9.98808720e-01],\n",
       "       [1.57621135e-02, 9.84237886e-01],\n",
       "       [1.17228710e-03, 9.98827713e-01],\n",
       "       [1.00000000e+00, 3.05248906e-17],\n",
       "       [4.35328940e-01, 5.64671060e-01],\n",
       "       [2.25208128e-04, 9.99774792e-01],\n",
       "       [1.44706201e-02, 9.85529380e-01],\n",
       "       [9.99999998e-01, 1.56999090e-09],\n",
       "       [1.00000000e+00, 3.53623223e-15],\n",
       "       [8.65160834e-02, 9.13483917e-01],\n",
       "       [1.33503143e-03, 9.98664969e-01],\n",
       "       [3.37013713e-01, 6.62986287e-01],\n",
       "       [9.99998675e-01, 1.32535213e-06],\n",
       "       [1.00000000e+00, 4.13046691e-13],\n",
       "       [3.67203780e-04, 9.99632796e-01],\n",
       "       [1.72753945e-02, 9.82724605e-01],\n",
       "       [9.86094486e-01, 1.39055139e-02],\n",
       "       [9.99966122e-01, 3.38784365e-05],\n",
       "       [2.50285569e-04, 9.99749714e-01],\n",
       "       [9.80126300e-01, 1.98736996e-02],\n",
       "       [1.18778653e-02, 9.88122135e-01],\n",
       "       [1.50989820e-03, 9.98490102e-01],\n",
       "       [2.28376860e-02, 9.77162314e-01],\n",
       "       [5.43023705e-01, 4.56976295e-01],\n",
       "       [2.66661602e-04, 9.99733338e-01],\n",
       "       [4.85920697e-03, 9.95140793e-01],\n",
       "       [9.99378039e-01, 6.21961143e-04],\n",
       "       [8.26067527e-04, 9.99173932e-01],\n",
       "       [1.09276918e-01, 8.90723082e-01],\n",
       "       [1.00000000e+00, 1.22966908e-14],\n",
       "       [9.99320504e-01, 6.79496425e-04],\n",
       "       [9.98131417e-01, 1.86858319e-03],\n",
       "       [9.99996094e-01, 3.90642806e-06],\n",
       "       [9.99999997e-01, 2.76098848e-09],\n",
       "       [2.24274937e-03, 9.97757251e-01],\n",
       "       [2.48864703e-03, 9.97511353e-01],\n",
       "       [1.16872983e-02, 9.88312702e-01],\n",
       "       [1.11820700e-01, 8.88179300e-01],\n",
       "       [1.02141422e-01, 8.97858578e-01],\n",
       "       [9.31923385e-06, 9.99990681e-01],\n",
       "       [1.28734126e-04, 9.99871266e-01],\n",
       "       [5.59876804e-04, 9.99440123e-01],\n",
       "       [9.99999996e-01, 4.30936398e-09],\n",
       "       [9.99999694e-01, 3.05835297e-07],\n",
       "       [8.32604737e-05, 9.99916740e-01],\n",
       "       [9.99983041e-01, 1.69585535e-05],\n",
       "       [9.99830640e-01, 1.69359513e-04],\n",
       "       [4.23969151e-05, 9.99957603e-01],\n",
       "       [1.00000000e+00, 2.21481651e-11],\n",
       "       [9.99111802e-01, 8.88197906e-04],\n",
       "       [2.12768960e-02, 9.78723104e-01],\n",
       "       [3.22924858e-02, 9.67707514e-01],\n",
       "       [4.81028787e-03, 9.95189712e-01],\n",
       "       [1.00000000e+00, 7.85722452e-20],\n",
       "       [1.30580471e-02, 9.86941953e-01],\n",
       "       [9.23562925e-02, 9.07643707e-01],\n",
       "       [9.99922047e-01, 7.79528958e-05],\n",
       "       [2.32023302e-03, 9.97679767e-01],\n",
       "       [8.29228964e-01, 1.70771036e-01],\n",
       "       [1.00000000e+00, 4.76179850e-28],\n",
       "       [5.37630787e-01, 4.62369213e-01],\n",
       "       [1.00000000e+00, 1.43995017e-12],\n",
       "       [4.80999305e-05, 9.99951900e-01],\n",
       "       [1.32722502e-01, 8.67277498e-01],\n",
       "       [2.32728217e-04, 9.99767272e-01],\n",
       "       [9.99893382e-01, 1.06618029e-04],\n",
       "       [9.46590453e-01, 5.34095469e-02],\n",
       "       [1.00346038e-03, 9.98996540e-01],\n",
       "       [1.11441435e-02, 9.88855856e-01],\n",
       "       [9.99985915e-01, 1.40847962e-05],\n",
       "       [4.94030811e-02, 9.50596919e-01],\n",
       "       [1.00000000e+00, 1.22715246e-10],\n",
       "       [9.99601987e-01, 3.98012731e-04],\n",
       "       [1.33831645e-02, 9.86616836e-01],\n",
       "       [1.89804815e-03, 9.98101952e-01],\n",
       "       [9.99999998e-01, 2.26800116e-09],\n",
       "       [1.00000000e+00, 6.63865627e-15],\n",
       "       [9.99995390e-01, 4.61006652e-06],\n",
       "       [1.02900142e-01, 8.97099858e-01],\n",
       "       [5.57262747e-04, 9.99442737e-01],\n",
       "       [8.41014314e-03, 9.91589857e-01],\n",
       "       [9.87099280e-01, 1.29007196e-02],\n",
       "       [6.56868419e-02, 9.34313158e-01],\n",
       "       [5.15012089e-04, 9.99484988e-01],\n",
       "       [1.88659489e-01, 8.11340511e-01],\n",
       "       [9.94761533e-01, 5.23846729e-03],\n",
       "       [5.58508077e-03, 9.94414919e-01],\n",
       "       [1.00000000e+00, 2.60408594e-14],\n",
       "       [2.21952341e-04, 9.99778048e-01],\n",
       "       [7.67995253e-05, 9.99923200e-01],\n",
       "       [9.94046081e-01, 5.95391908e-03],\n",
       "       [4.83006712e-03, 9.95169933e-01],\n",
       "       [9.99999442e-01, 5.58000188e-07],\n",
       "       [9.99999997e-01, 3.46659953e-09],\n",
       "       [7.38679567e-01, 2.61320433e-01],\n",
       "       [1.96166659e-03, 9.98038333e-01],\n",
       "       [9.85794258e-01, 1.42057421e-02],\n",
       "       [2.16879176e-04, 9.99783121e-01],\n",
       "       [9.18164491e-04, 9.99081836e-01],\n",
       "       [1.75995786e-02, 9.82400421e-01],\n",
       "       [2.23654221e-02, 9.77634578e-01],\n",
       "       [1.00000000e+00, 1.79669900e-19],\n",
       "       [9.99939034e-01, 6.09663410e-05],\n",
       "       [9.69394634e-03, 9.90306054e-01],\n",
       "       [3.91808964e-03, 9.96081910e-01],\n",
       "       [4.31174060e-05, 9.99956883e-01],\n",
       "       [3.96986888e-11, 1.00000000e+00],\n",
       "       [1.44004167e-02, 9.85599583e-01],\n",
       "       [1.79404531e-03, 9.98205955e-01],\n",
       "       [1.13581559e-03, 9.98864184e-01],\n",
       "       [9.55400398e-01, 4.45996019e-02],\n",
       "       [6.97521200e-03, 9.93024788e-01],\n",
       "       [2.33471647e-04, 9.99766528e-01],\n",
       "       [1.64993016e-01, 8.35006984e-01],\n",
       "       [2.08538547e-03, 9.97914615e-01],\n",
       "       [9.88088777e-01, 1.19112229e-02],\n",
       "       [4.79169600e-02, 9.52083040e-01],\n",
       "       [9.13866907e-03, 9.90861331e-01],\n",
       "       [2.79513663e-03, 9.97204863e-01],\n",
       "       [1.47415732e-01, 8.52584268e-01],\n",
       "       [1.80328420e-03, 9.98196716e-01],\n",
       "       [6.93445473e-02, 9.30655453e-01],\n",
       "       [9.86386055e-01, 1.36139448e-02],\n",
       "       [1.49849808e-02, 9.85015019e-01],\n",
       "       [1.79421237e-02, 9.82057876e-01],\n",
       "       [1.63345768e-03, 9.98366542e-01],\n",
       "       [3.98066782e-02, 9.60193322e-01],\n",
       "       [8.13920907e-01, 1.86079093e-01],\n",
       "       [2.53560464e-03, 9.97464395e-01],\n",
       "       [9.99860902e-01, 1.39098223e-04],\n",
       "       [9.99999924e-01, 7.61629156e-08],\n",
       "       [9.85612176e-01, 1.43878240e-02],\n",
       "       [8.00712354e-01, 1.99287646e-01],\n",
       "       [9.24552956e-03, 9.90754470e-01]])"
      ]
     },
     "execution_count": 22,
     "metadata": {},
     "output_type": "execute_result"
    }
   ],
   "source": [
    "p_pred=log.predict_proba(x_test)\n",
    "p_pred"
   ]
  },
  {
   "cell_type": "code",
   "execution_count": 23,
   "id": "65308f6e",
   "metadata": {},
   "outputs": [
    {
     "data": {
      "text/plain": [
       "array([1, 0, 0, 1, 1, 0, 0, 0, 1, 1, 1, 0, 1, 0, 1, 0, 1, 1, 1, 0, 1, 1,\n",
       "       0, 1, 1, 1, 1, 1, 1, 0, 1, 1, 1, 1, 1, 1, 0, 1, 0, 1, 1, 0, 1, 1,\n",
       "       1, 1, 1, 1, 1, 1, 0, 0, 1, 1, 1, 1, 1, 0, 1, 1, 1, 0, 0, 1, 1, 1,\n",
       "       0, 0, 1, 1, 0, 0, 1, 0, 1, 1, 1, 0, 1, 1, 0, 1, 1, 0, 0, 0, 0, 0,\n",
       "       1, 1, 1, 1, 1, 1, 1, 1, 0, 0, 1, 0, 0, 1, 0, 0, 1, 1, 1, 0, 1, 1,\n",
       "       0, 1, 0, 0, 0, 0, 1, 1, 1, 0, 0, 1, 1, 0, 1, 0, 0, 1, 1, 0, 0, 0,\n",
       "       1, 1, 1, 0, 1, 1, 1, 0, 1, 0, 1, 1, 0, 1, 0, 0, 0, 1, 0, 1, 1, 1,\n",
       "       1, 0, 0, 1, 1, 1, 1, 1, 1, 1, 0, 1, 1, 1, 1, 0, 1, 1, 1, 1, 1, 1,\n",
       "       0, 1, 1, 1, 1, 0, 1, 0, 0, 0, 0, 1])"
      ]
     },
     "execution_count": 23,
     "metadata": {},
     "output_type": "execute_result"
    }
   ],
   "source": [
    "y_pred=log.predict(x_test)\n",
    "y_pred"
   ]
  },
  {
   "cell_type": "code",
   "execution_count": 24,
   "id": "15d286c2",
   "metadata": {},
   "outputs": [
    {
     "data": {
      "text/plain": [
       "0.9574468085106383"
      ]
     },
     "execution_count": 24,
     "metadata": {},
     "output_type": "execute_result"
    }
   ],
   "source": [
    "score=log.score(x_test, y_test)\n",
    "score"
   ]
  },
  {
   "cell_type": "code",
   "execution_count": 31,
   "id": "174bb91e",
   "metadata": {},
   "outputs": [],
   "source": [
    "from sklearn.metrics import classification_report, confusion_matrix, accuracy_score"
   ]
  },
  {
   "cell_type": "code",
   "execution_count": 28,
   "id": "c13af0f4",
   "metadata": {},
   "outputs": [
    {
     "data": {
      "text/plain": [
       "array([[ 64,   3],\n",
       "       [  5, 116]], dtype=int64)"
      ]
     },
     "execution_count": 28,
     "metadata": {},
     "output_type": "execute_result"
    }
   ],
   "source": [
    "conf_mat=confusion_matrix(y_test, y_pred)\n",
    "conf_mat"
   ]
  },
  {
   "cell_type": "code",
   "execution_count": 30,
   "id": "3e73b8d2",
   "metadata": {},
   "outputs": [
    {
     "name": "stdout",
     "output_type": "stream",
     "text": [
      "              precision    recall  f1-score   support\n",
      "\n",
      "           0       0.93      0.96      0.94        67\n",
      "           1       0.97      0.96      0.97       121\n",
      "\n",
      "    accuracy                           0.96       188\n",
      "   macro avg       0.95      0.96      0.95       188\n",
      "weighted avg       0.96      0.96      0.96       188\n",
      "\n"
     ]
    }
   ],
   "source": [
    "report=classification_report(y_test, y_pred)\n",
    "print(report)"
   ]
  },
  {
   "cell_type": "code",
   "execution_count": 32,
   "id": "6669fe24",
   "metadata": {},
   "outputs": [
    {
     "data": {
      "text/plain": [
       "0.9574468085106383"
      ]
     },
     "execution_count": 32,
     "metadata": {},
     "output_type": "execute_result"
    }
   ],
   "source": [
    "acc_score=accuracy_score(y_test, y_pred)\n",
    "acc_score"
   ]
  },
  {
   "cell_type": "code",
   "execution_count": null,
   "id": "ee15709f",
   "metadata": {},
   "outputs": [],
   "source": []
  }
 ],
 "metadata": {
  "kernelspec": {
   "display_name": "Python 3 (ipykernel)",
   "language": "python",
   "name": "python3"
  },
  "language_info": {
   "codemirror_mode": {
    "name": "ipython",
    "version": 3
   },
   "file_extension": ".py",
   "mimetype": "text/x-python",
   "name": "python",
   "nbconvert_exporter": "python",
   "pygments_lexer": "ipython3",
   "version": "3.11.7"
  }
 },
 "nbformat": 4,
 "nbformat_minor": 5
}
