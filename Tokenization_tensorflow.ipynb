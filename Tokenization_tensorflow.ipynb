{
 "cells": [
  {
   "cell_type": "code",
   "execution_count": 1,
   "id": "899e72da",
   "metadata": {},
   "outputs": [],
   "source": [
    "import tensorflow as tf\n",
    "from tensorflow import keras\n",
    "from tensorflow.keras.preprocessing.text import Tokenizer"
   ]
  },
  {
   "cell_type": "code",
   "execution_count": 9,
   "id": "75f8ca82",
   "metadata": {},
   "outputs": [],
   "source": [
    "sentences=[\n",
    "    'I love my dog',\n",
    "    'I love my cat',\n",
    "    'You love my dog!',\n",
    "    'Do you think my dog is amazing?'\n",
    "]"
   ]
  },
  {
   "cell_type": "markdown",
   "id": "9bfc0b6d",
   "metadata": {},
   "source": [
    "**Tokenization**"
   ]
  },
  {
   "cell_type": "code",
   "execution_count": 15,
   "id": "4087f4e1",
   "metadata": {},
   "outputs": [],
   "source": [
    "tokenizer=Tokenizer(num_words=100)\n",
    "# num_word => maximum number of words to keep\n",
    "# so insist of manually assigning words this do that"
   ]
  },
  {
   "cell_type": "code",
   "execution_count": 16,
   "id": "cb315454",
   "metadata": {},
   "outputs": [],
   "source": [
    "tokenizer.fit_on_texts(sentences)\n",
    "# go to all text and fit it like this"
   ]
  },
  {
   "cell_type": "code",
   "execution_count": 21,
   "id": "db1ea3a8",
   "metadata": {},
   "outputs": [
    {
     "name": "stdout",
     "output_type": "stream",
     "text": [
      "{'my': 1, 'love': 2, 'dog': 3, 'i': 4, 'you': 5, 'cat': 6, 'do': 7, 'think': 8, 'is': 9, 'amazing': 10}\n"
     ]
    }
   ],
   "source": [
    "word_index=tokenizer.word_index\n",
    "print(word_index)"
   ]
  },
  {
   "cell_type": "markdown",
   "id": "1340584e",
   "metadata": {},
   "source": [
    "**Turning Sentence into data**"
   ]
  },
  {
   "cell_type": "code",
   "execution_count": 7,
   "id": "193e9adf",
   "metadata": {},
   "outputs": [
    {
     "data": {
      "text/plain": [
       "[[4, 2, 1, 3], [4, 2, 1, 6], [5, 2, 1, 3], [7, 5, 8, 1, 3, 9, 10]]"
      ]
     },
     "execution_count": 7,
     "metadata": {},
     "output_type": "execute_result"
    }
   ],
   "source": [
    "sequences= tokenizer.texts_to_sequences(sentences)\n",
    "sequences"
   ]
  },
  {
   "cell_type": "markdown",
   "id": "5098e47b",
   "metadata": {},
   "source": [
    "**Test data**"
   ]
  },
  {
   "cell_type": "code",
   "execution_count": 11,
   "id": "8097488c",
   "metadata": {},
   "outputs": [],
   "source": [
    "# if new words are not present in previous data\n",
    "test_data={\n",
    "    'i really love my dog',\n",
    "    'my dog loves my manatee'\n",
    "}"
   ]
  },
  {
   "cell_type": "code",
   "execution_count": 12,
   "id": "3ffc016f",
   "metadata": {},
   "outputs": [
    {
     "data": {
      "text/plain": [
       "[[4, 2, 1, 3], [1, 3, 1]]"
      ]
     },
     "execution_count": 12,
     "metadata": {},
     "output_type": "execute_result"
    }
   ],
   "source": [
    "test_seq= tokenizer.texts_to_sequences(test_data)\n",
    "test_seq"
   ]
  },
  {
   "cell_type": "markdown",
   "id": "b47ef0a0",
   "metadata": {},
   "source": [
    "**Problem solving**"
   ]
  },
  {
   "cell_type": "code",
   "execution_count": 17,
   "id": "6b99f33d",
   "metadata": {},
   "outputs": [],
   "source": [
    "# add oov_token='<00V>' in Tokenizer\n",
    "tokenizer2=Tokenizer(num_words=100, oov_token='<00V>')"
   ]
  },
  {
   "cell_type": "code",
   "execution_count": 18,
   "id": "748dd0b4",
   "metadata": {},
   "outputs": [],
   "source": [
    "tokenizer2.fit_on_texts(sentences)"
   ]
  },
  {
   "cell_type": "code",
   "execution_count": 19,
   "id": "7d60d3e0",
   "metadata": {},
   "outputs": [
    {
     "data": {
      "text/plain": [
       "[[5, 1, 3, 2, 4], [2, 4, 1, 2, 1]]"
      ]
     },
     "execution_count": 19,
     "metadata": {},
     "output_type": "execute_result"
    }
   ],
   "source": [
    "test_seq2= tokenizer2.texts_to_sequences(test_data)\n",
    "test_seq2"
   ]
  },
  {
   "cell_type": "code",
   "execution_count": 20,
   "id": "6d1e1e15",
   "metadata": {},
   "outputs": [
    {
     "name": "stdout",
     "output_type": "stream",
     "text": [
      "{'<00V>': 1, 'my': 2, 'love': 3, 'dog': 4, 'i': 5, 'you': 6, 'cat': 7, 'do': 8, 'think': 9, 'is': 10, 'amazing': 11}\n"
     ]
    }
   ],
   "source": [
    "word_index=tokenizer2.word_index\n",
    "print(word_index)"
   ]
  },
  {
   "cell_type": "code",
   "execution_count": 22,
   "id": "9f03cc86",
   "metadata": {},
   "outputs": [],
   "source": [
    "# we still lost meaning but the sentences are atleast are of same length"
   ]
  },
  {
   "cell_type": "markdown",
   "id": "d164cf27",
   "metadata": {},
   "source": [
    "in **neural network**, how can it be handled sentences of differnt lengths, advancely **RaggedTensor** is used, but we r using a simpler solution called **padding**"
   ]
  },
  {
   "cell_type": "code",
   "execution_count": 24,
   "id": "dffed2c6",
   "metadata": {},
   "outputs": [],
   "source": [
    "from tensorflow.keras.preprocessing.sequence import pad_sequences"
   ]
  },
  {
   "cell_type": "code",
   "execution_count": 26,
   "id": "0396d650",
   "metadata": {},
   "outputs": [
    {
     "data": {
      "text/plain": [
       "[[5, 3, 2, 4], [5, 3, 2, 7], [6, 3, 2, 4], [8, 6, 9, 2, 4, 10, 11]]"
      ]
     },
     "execution_count": 26,
     "metadata": {},
     "output_type": "execute_result"
    }
   ],
   "source": [
    "sequences2= tokenizer2.texts_to_sequences(sentences)\n",
    "sequences2"
   ]
  },
  {
   "cell_type": "code",
   "execution_count": 27,
   "id": "f3379ce5",
   "metadata": {},
   "outputs": [
    {
     "data": {
      "text/plain": [
       "array([[ 0,  0,  0,  5,  3,  2,  4],\n",
       "       [ 0,  0,  0,  5,  3,  2,  7],\n",
       "       [ 0,  0,  0,  6,  3,  2,  4],\n",
       "       [ 8,  6,  9,  2,  4, 10, 11]])"
      ]
     },
     "execution_count": 27,
     "metadata": {},
     "output_type": "execute_result"
    }
   ],
   "source": [
    "padded= pad_sequences(sequences2)\n",
    "padded\n",
    "# it make sure all the sentences are of same lengths by adding zero before them"
   ]
  },
  {
   "cell_type": "code",
   "execution_count": 30,
   "id": "259af7ad",
   "metadata": {},
   "outputs": [
    {
     "data": {
      "text/plain": [
       "array([[ 5,  3,  2,  4,  0,  0,  0],\n",
       "       [ 5,  3,  2,  7,  0,  0,  0],\n",
       "       [ 6,  3,  2,  4,  0,  0,  0],\n",
       "       [ 8,  6,  9,  2,  4, 10, 11]])"
      ]
     },
     "execution_count": 30,
     "metadata": {},
     "output_type": "execute_result"
    }
   ],
   "source": [
    "# To add zeroes at back\n",
    "padded2= pad_sequences(sequences2, padding='post')\n",
    "padded2"
   ]
  },
  {
   "cell_type": "code",
   "execution_count": 31,
   "id": "ac4fb103",
   "metadata": {},
   "outputs": [
    {
     "data": {
      "text/plain": [
       "array([[ 5,  3,  2,  4,  0],\n",
       "       [ 5,  3,  2,  7,  0],\n",
       "       [ 6,  3,  2,  4,  0],\n",
       "       [ 9,  2,  4, 10, 11]])"
      ]
     },
     "execution_count": 31,
     "metadata": {},
     "output_type": "execute_result"
    }
   ],
   "source": [
    "# to specify the length so that the length of padding not same as longest\n",
    "padded3= pad_sequences(sequences2, padding='post', maxlen=5)\n",
    "padded3"
   ]
  },
  {
   "cell_type": "code",
   "execution_count": 33,
   "id": "1eed6d6e",
   "metadata": {},
   "outputs": [
    {
     "data": {
      "text/plain": [
       "array([[5, 3, 2, 4, 0],\n",
       "       [5, 3, 2, 7, 0],\n",
       "       [6, 3, 2, 4, 0],\n",
       "       [8, 6, 9, 2, 4]])"
      ]
     },
     "execution_count": 33,
     "metadata": {},
     "output_type": "execute_result"
    }
   ],
   "source": [
    "padded4= pad_sequences(sequences2, padding='post', maxlen=5, \n",
    "                       truncating='post')\n",
    "padded4"
   ]
  },
  {
   "cell_type": "code",
   "execution_count": null,
   "id": "bd5a1c7c",
   "metadata": {},
   "outputs": [],
   "source": []
  }
 ],
 "metadata": {
  "kernelspec": {
   "display_name": "Python 3 (ipykernel)",
   "language": "python",
   "name": "python3"
  },
  "language_info": {
   "codemirror_mode": {
    "name": "ipython",
    "version": 3
   },
   "file_extension": ".py",
   "mimetype": "text/x-python",
   "name": "python",
   "nbconvert_exporter": "python",
   "pygments_lexer": "ipython3",
   "version": "3.11.7"
  }
 },
 "nbformat": 4,
 "nbformat_minor": 5
}
