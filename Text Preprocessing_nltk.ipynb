{
 "cells": [
  {
   "cell_type": "code",
   "execution_count": 1,
   "id": "f8bfe53f",
   "metadata": {},
   "outputs": [],
   "source": [
    "import nltk"
   ]
  },
  {
   "cell_type": "code",
   "execution_count": 2,
   "id": "d0ca4fbf",
   "metadata": {},
   "outputs": [],
   "source": [
    "from nltk.stem import PorterStemmer\n",
    "from nltk.corpus import stopwords\n",
    "from nltk.stem import WordNetLemmatizer"
   ]
  },
  {
   "cell_type": "code",
   "execution_count": 3,
   "id": "ce3d00e6",
   "metadata": {},
   "outputs": [],
   "source": [
    "corpus=\"\"\"\n",
    "Narendra Damodardas Modi (born 17 September 1950) is an Indian politician who has served as the 14th Prime Minister of India since 26 May 2014. \n",
    "Modi was the chief minister of Gujarat from 2001 to 2014 and is the Member of Parliament (MP) for Varanasi. \n",
    "He is a member of the Bharatiya Janata Party (BJP) and of the Rashtriya Swayamsevak Sangh (RSS), \n",
    "a right wing Hindu nationalist paramilitary volunteer organisation. \n",
    "He is the longest-serving prime minister outside the Indian National Congress.\n",
    "Modi was born and raised in Vadnagar in northeastern Gujarat, \n",
    "where he completed his secondary education. \n",
    "He was introduced to the RSS at the age of eight. \n",
    "At the age of 18, he was married to Jashodaben Modi, \n",
    "whom he abandoned soon after, only publicly acknowledging her four decades later when legally required to do so. \n",
    "Modi became a full-time worker for the RSS in Gujarat in 1971. \n",
    "The RSS assigned him to the BJP in 1985 and he rose through the party hierarchy, \n",
    "becoming general secretary in 1998.\n",
    "In 2001, Modi was appointed Chief Minister of Gujarat and elected to the legislative assembly soon after. \n",
    "His administration is considered complicit in the 2002 Gujarat riots,\n",
    "and has been criticised for its management of the crisis. \n",
    "According to official records, a little over 1,000 people were killed, three-quarters of whom were Muslim; \n",
    "independent sources estimated 2,000 deaths, mostly Muslim.\n",
    "A Special Investigation Team appointed by the Supreme Court of India in 2012 found no evidence to initiate prosecution proceedings against him.\n",
    "While his policies as chief minister were credited for encouraging economic growth, \n",
    "his administration was criticised for failing to significantly improve health, poverty and education indices in the state.\n",
    "\"\"\""
   ]
  },
  {
   "cell_type": "code",
   "execution_count": 4,
   "id": "7053ad2a",
   "metadata": {},
   "outputs": [],
   "source": [
    "# Tokenization --> convert para into sentences then into words\n",
    "# we need to use sent_tokenize for that we need to download the package\n",
    "# nltk.download('punkt')"
   ]
  },
  {
   "cell_type": "code",
   "execution_count": 5,
   "id": "39896339",
   "metadata": {},
   "outputs": [
    {
     "data": {
      "text/plain": [
       "['\\nNarendra Damodardas Modi (born 17 September 1950) is an Indian politician who has served as the 14th Prime Minister of India since 26 May 2014.',\n",
       " 'Modi was the chief minister of Gujarat from 2001 to 2014 and is the Member of Parliament (MP) for Varanasi.',\n",
       " 'He is a member of the Bharatiya Janata Party (BJP) and of the Rashtriya Swayamsevak Sangh (RSS), \\na right wing Hindu nationalist paramilitary volunteer organisation.',\n",
       " 'He is the longest-serving prime minister outside the Indian National Congress.',\n",
       " 'Modi was born and raised in Vadnagar in northeastern Gujarat, \\nwhere he completed his secondary education.',\n",
       " 'He was introduced to the RSS at the age of eight.',\n",
       " 'At the age of 18, he was married to Jashodaben Modi, \\nwhom he abandoned soon after, only publicly acknowledging her four decades later when legally required to do so.',\n",
       " 'Modi became a full-time worker for the RSS in Gujarat in 1971.',\n",
       " 'The RSS assigned him to the BJP in 1985 and he rose through the party hierarchy, \\nbecoming general secretary in 1998.',\n",
       " 'In 2001, Modi was appointed Chief Minister of Gujarat and elected to the legislative assembly soon after.',\n",
       " 'His administration is considered complicit in the 2002 Gujarat riots,\\nand has been criticised for its management of the crisis.',\n",
       " 'According to official records, a little over 1,000 people were killed, three-quarters of whom were Muslim; \\nindependent sources estimated 2,000 deaths, mostly Muslim.',\n",
       " 'A Special Investigation Team appointed by the Supreme Court of India in 2012 found no evidence to initiate prosecution proceedings against him.',\n",
       " 'While his policies as chief minister were credited for encouraging economic growth, \\nhis administration was criticised for failing to significantly improve health, poverty and education indices in the state.']"
      ]
     },
     "execution_count": 5,
     "metadata": {},
     "output_type": "execute_result"
    }
   ],
   "source": [
    "sentences= nltk.sent_tokenize(corpus)\n",
    "sentences"
   ]
  },
  {
   "cell_type": "code",
   "execution_count": 6,
   "id": "7de1ec94",
   "metadata": {},
   "outputs": [],
   "source": [
    "# Stemming\n",
    "stemmer= PorterStemmer()"
   ]
  },
  {
   "cell_type": "code",
   "execution_count": 7,
   "id": "30ad1738",
   "metadata": {},
   "outputs": [
    {
     "data": {
      "text/plain": [
       "'histori'"
      ]
     },
     "execution_count": 7,
     "metadata": {},
     "output_type": "execute_result"
    }
   ],
   "source": [
    "stemmer.stem('history')"
   ]
  },
  {
   "cell_type": "code",
   "execution_count": 8,
   "id": "b33bdac6",
   "metadata": {},
   "outputs": [
    {
     "name": "stderr",
     "output_type": "stream",
     "text": [
      "[nltk_data] Downloading package wordnet to\n",
      "[nltk_data]     C:\\Users\\HP\\AppData\\Roaming\\nltk_data...\n",
      "[nltk_data]   Package wordnet is already up-to-date!\n"
     ]
    },
    {
     "data": {
      "text/plain": [
       "True"
      ]
     },
     "execution_count": 8,
     "metadata": {},
     "output_type": "execute_result"
    }
   ],
   "source": [
    "nltk.download('wordnet')"
   ]
  },
  {
   "cell_type": "code",
   "execution_count": 9,
   "id": "5243dcc2",
   "metadata": {},
   "outputs": [],
   "source": [
    "# Lemmatiozation\n",
    "lemmatizer= WordNetLemmatizer()"
   ]
  },
  {
   "cell_type": "code",
   "execution_count": 10,
   "id": "fab22469",
   "metadata": {},
   "outputs": [
    {
     "data": {
      "text/plain": [
       "'history'"
      ]
     },
     "execution_count": 10,
     "metadata": {},
     "output_type": "execute_result"
    }
   ],
   "source": [
    "lemmatizer.lemmatize('history')"
   ]
  },
  {
   "cell_type": "code",
   "execution_count": 11,
   "id": "17019e99",
   "metadata": {},
   "outputs": [],
   "source": [
    "# Cleaning the text\n",
    "import re"
   ]
  },
  {
   "cell_type": "code",
   "execution_count": 12,
   "id": "dd390443",
   "metadata": {},
   "outputs": [
    {
     "data": {
      "text/plain": [
       "14"
      ]
     },
     "execution_count": 12,
     "metadata": {},
     "output_type": "execute_result"
    }
   ],
   "source": [
    "len(sentences)"
   ]
  },
  {
   "cell_type": "code",
   "execution_count": 13,
   "id": "6bfb544e",
   "metadata": {},
   "outputs": [],
   "source": [
    "# nltk.download('stopwords')"
   ]
  },
  {
   "cell_type": "code",
   "execution_count": 14,
   "id": "ff34f289",
   "metadata": {},
   "outputs": [],
   "source": [
    "# Stopwords and Lemmatization\n",
    "new_corpus=[]\n",
    "for i in range(len(sentences)):\n",
    "    review = re.sub('[^a-zA-Z]', ' ', sentences[i])\n",
    "    # it will replace everything other than a to z to blank space\n",
    "    review = review.lower()\n",
    "    review = review.split()\n",
    "    review = [lemmatizer.lemmatize(word)\n",
    "             for word in review \n",
    "             if not word in set(stopwords.words('english'))]\n",
    "    review = ' '.join(review)\n",
    "    new_corpus.append(review)"
   ]
  },
  {
   "cell_type": "code",
   "execution_count": 15,
   "id": "3d28da17",
   "metadata": {},
   "outputs": [
    {
     "data": {
      "text/plain": [
       "['narendra damodardas modi born september indian politician served th prime minister india since may',\n",
       " 'modi chief minister gujarat member parliament mp varanasi',\n",
       " 'member bharatiya janata party bjp rashtriya swayamsevak sangh r right wing hindu nationalist paramilitary volunteer organisation',\n",
       " 'longest serving prime minister outside indian national congress',\n",
       " 'modi born raised vadnagar northeastern gujarat completed secondary education',\n",
       " 'introduced r age eight',\n",
       " 'age married jashodaben modi abandoned soon publicly acknowledging four decade later legally required',\n",
       " 'modi became full time worker r gujarat',\n",
       " 'r assigned bjp rose party hierarchy becoming general secretary',\n",
       " 'modi appointed chief minister gujarat elected legislative assembly soon',\n",
       " 'administration considered complicit gujarat riot criticised management crisis',\n",
       " 'according official record little people killed three quarter muslim independent source estimated death mostly muslim',\n",
       " 'special investigation team appointed supreme court india found evidence initiate prosecution proceeding',\n",
       " 'policy chief minister credited encouraging economic growth administration criticised failing significantly improve health poverty education index state']"
      ]
     },
     "execution_count": 15,
     "metadata": {},
     "output_type": "execute_result"
    }
   ],
   "source": [
    "new_corpus"
   ]
  },
  {
   "cell_type": "code",
   "execution_count": 16,
   "id": "639a441f",
   "metadata": {},
   "outputs": [
    {
     "name": "stdout",
     "output_type": "stream",
     "text": [
      "narendra\n",
      "damodarda\n",
      "modi\n",
      "born\n",
      "septemb\n",
      "indian\n",
      "politician\n",
      "serv\n",
      "th\n",
      "prime\n",
      "minist\n",
      "india\n",
      "sinc\n",
      "may\n",
      "modi\n",
      "chief\n",
      "minist\n",
      "gujarat\n",
      "member\n",
      "parliament\n",
      "mp\n",
      "varanasi\n",
      "member\n",
      "bharatiya\n",
      "janata\n",
      "parti\n",
      "bjp\n",
      "rashtriya\n",
      "swayamsevak\n",
      "sangh\n",
      "r\n",
      "right\n",
      "wing\n",
      "hindu\n",
      "nationalist\n",
      "paramilitari\n",
      "volunt\n",
      "organis\n",
      "longest\n",
      "serv\n",
      "prime\n",
      "minist\n",
      "outsid\n",
      "indian\n",
      "nation\n",
      "congress\n",
      "modi\n",
      "born\n",
      "rais\n",
      "vadnagar\n",
      "northeastern\n",
      "gujarat\n",
      "complet\n",
      "secondari\n",
      "educ\n",
      "introduc\n",
      "r\n",
      "age\n",
      "eight\n",
      "age\n",
      "marri\n",
      "jashodaben\n",
      "modi\n",
      "abandon\n",
      "soon\n",
      "publicli\n",
      "acknowledg\n",
      "four\n",
      "decad\n",
      "later\n",
      "legal\n",
      "requir\n",
      "modi\n",
      "becam\n",
      "full\n",
      "time\n",
      "worker\n",
      "r\n",
      "gujarat\n",
      "r\n",
      "assign\n",
      "bjp\n",
      "rose\n",
      "parti\n",
      "hierarchi\n",
      "becom\n",
      "gener\n",
      "secretari\n",
      "modi\n",
      "appoint\n",
      "chief\n",
      "minist\n",
      "gujarat\n",
      "elect\n",
      "legisl\n",
      "assembl\n",
      "soon\n",
      "administr\n",
      "consid\n",
      "complicit\n",
      "gujarat\n",
      "riot\n",
      "criticis\n",
      "manag\n",
      "crisi\n",
      "accord\n",
      "offici\n",
      "record\n",
      "littl\n",
      "peopl\n",
      "kill\n",
      "three\n",
      "quarter\n",
      "muslim\n",
      "independ\n",
      "sourc\n",
      "estim\n",
      "death\n",
      "mostli\n",
      "muslim\n",
      "special\n",
      "investig\n",
      "team\n",
      "appoint\n",
      "suprem\n",
      "court\n",
      "india\n",
      "found\n",
      "evid\n",
      "initi\n",
      "prosecut\n",
      "proceed\n",
      "polici\n",
      "chief\n",
      "minist\n",
      "credit\n",
      "encourag\n",
      "econom\n",
      "growth\n",
      "administr\n",
      "criticis\n",
      "fail\n",
      "significantli\n",
      "improv\n",
      "health\n",
      "poverti\n",
      "educ\n",
      "index\n",
      "state\n"
     ]
    }
   ],
   "source": [
    "# Tokenization and Stemming\n",
    "for i in new_corpus:\n",
    "    words = nltk.word_tokenize(i)\n",
    "    for word in words:\n",
    "        if word not in set(stopwords.words('english')):\n",
    "            print(stemmer.stem(word))"
   ]
  },
  {
   "cell_type": "code",
   "execution_count": 17,
   "id": "f56b8c4d",
   "metadata": {},
   "outputs": [
    {
     "name": "stdout",
     "output_type": "stream",
     "text": [
      "narendra\n",
      "damodardas\n",
      "modi\n",
      "born\n",
      "september\n",
      "indian\n",
      "politician\n",
      "served\n",
      "th\n",
      "prime\n",
      "minister\n",
      "india\n",
      "since\n",
      "may\n",
      "modi\n",
      "chief\n",
      "minister\n",
      "gujarat\n",
      "member\n",
      "parliament\n",
      "mp\n",
      "varanasi\n",
      "member\n",
      "bharatiya\n",
      "janata\n",
      "party\n",
      "bjp\n",
      "rashtriya\n",
      "swayamsevak\n",
      "sangh\n",
      "r\n",
      "right\n",
      "wing\n",
      "hindu\n",
      "nationalist\n",
      "paramilitary\n",
      "volunteer\n",
      "organisation\n",
      "longest\n",
      "serving\n",
      "prime\n",
      "minister\n",
      "outside\n",
      "indian\n",
      "national\n",
      "congress\n",
      "modi\n",
      "born\n",
      "raised\n",
      "vadnagar\n",
      "northeastern\n",
      "gujarat\n",
      "completed\n",
      "secondary\n",
      "education\n",
      "introduced\n",
      "r\n",
      "age\n",
      "eight\n",
      "age\n",
      "married\n",
      "jashodaben\n",
      "modi\n",
      "abandoned\n",
      "soon\n",
      "publicly\n",
      "acknowledging\n",
      "four\n",
      "decade\n",
      "later\n",
      "legally\n",
      "required\n",
      "modi\n",
      "became\n",
      "full\n",
      "time\n",
      "worker\n",
      "r\n",
      "gujarat\n",
      "r\n",
      "assigned\n",
      "bjp\n",
      "rose\n",
      "party\n",
      "hierarchy\n",
      "becoming\n",
      "general\n",
      "secretary\n",
      "modi\n",
      "appointed\n",
      "chief\n",
      "minister\n",
      "gujarat\n",
      "elected\n",
      "legislative\n",
      "assembly\n",
      "soon\n",
      "administration\n",
      "considered\n",
      "complicit\n",
      "gujarat\n",
      "riot\n",
      "criticised\n",
      "management\n",
      "crisis\n",
      "according\n",
      "official\n",
      "record\n",
      "little\n",
      "people\n",
      "killed\n",
      "three\n",
      "quarter\n",
      "muslim\n",
      "independent\n",
      "source\n",
      "estimated\n",
      "death\n",
      "mostly\n",
      "muslim\n",
      "special\n",
      "investigation\n",
      "team\n",
      "appointed\n",
      "supreme\n",
      "court\n",
      "india\n",
      "found\n",
      "evidence\n",
      "initiate\n",
      "prosecution\n",
      "proceeding\n",
      "policy\n",
      "chief\n",
      "minister\n",
      "credited\n",
      "encouraging\n",
      "economic\n",
      "growth\n",
      "administration\n",
      "criticised\n",
      "failing\n",
      "significantly\n",
      "improve\n",
      "health\n",
      "poverty\n",
      "education\n",
      "index\n",
      "state\n"
     ]
    }
   ],
   "source": [
    "# Tokenization and Lemmatization\n",
    "for i in new_corpus:\n",
    "    words = nltk.word_tokenize(i)\n",
    "    for word in words:\n",
    "        if word not in set(stopwords.words('english')):\n",
    "            print(lemmatizer.lemmatize(word))"
   ]
  },
  {
   "cell_type": "markdown",
   "id": "cb5f1bba",
   "metadata": {},
   "source": [
    "# BAG OF WORDS"
   ]
  },
  {
   "cell_type": "code",
   "execution_count": 18,
   "id": "ff2b2537",
   "metadata": {},
   "outputs": [],
   "source": [
    "from sklearn.feature_extraction.text import CountVectorizer"
   ]
  },
  {
   "cell_type": "code",
   "execution_count": 19,
   "id": "447da10e",
   "metadata": {},
   "outputs": [],
   "source": [
    "cv=CountVectorizer(binary= True)\n",
    "X= cv.fit_transform(new_corpus)"
   ]
  },
  {
   "cell_type": "code",
   "execution_count": 20,
   "id": "fd0c8f3f",
   "metadata": {},
   "outputs": [
    {
     "data": {
      "text/plain": [
       "{'narendra': 67,\n",
       " 'damodardas': 22,\n",
       " 'modi': 63,\n",
       " 'born': 12,\n",
       " 'september': 96,\n",
       " 'indian': 46,\n",
       " 'politician': 79,\n",
       " 'served': 97,\n",
       " 'th': 108,\n",
       " 'prime': 81,\n",
       " 'minister': 62,\n",
       " 'india': 45,\n",
       " 'since': 100,\n",
       " 'may': 60,\n",
       " 'chief': 13,\n",
       " 'gujarat': 38,\n",
       " 'member': 61,\n",
       " 'parliament': 75,\n",
       " 'mp': 65,\n",
       " 'varanasi': 112,\n",
       " 'bharatiya': 10,\n",
       " 'janata': 50,\n",
       " 'party': 76,\n",
       " 'bjp': 11,\n",
       " 'rashtriya': 87,\n",
       " 'swayamsevak': 106,\n",
       " 'sangh': 93,\n",
       " 'right': 90,\n",
       " 'wing': 114,\n",
       " 'hindu': 41,\n",
       " 'nationalist': 69,\n",
       " 'paramilitary': 74,\n",
       " 'volunteer': 113,\n",
       " 'organisation': 72,\n",
       " 'longest': 57,\n",
       " 'serving': 98,\n",
       " 'outside': 73,\n",
       " 'national': 68,\n",
       " 'congress': 16,\n",
       " 'raised': 86,\n",
       " 'vadnagar': 111,\n",
       " 'northeastern': 70,\n",
       " 'completed': 14,\n",
       " 'secondary': 94,\n",
       " 'education': 26,\n",
       " 'introduced': 48,\n",
       " 'age': 4,\n",
       " 'eight': 27,\n",
       " 'married': 59,\n",
       " 'jashodaben': 51,\n",
       " 'abandoned': 0,\n",
       " 'soon': 101,\n",
       " 'publicly': 84,\n",
       " 'acknowledging': 2,\n",
       " 'four': 34,\n",
       " 'decade': 24,\n",
       " 'later': 53,\n",
       " 'legally': 54,\n",
       " 'required': 89,\n",
       " 'became': 8,\n",
       " 'full': 35,\n",
       " 'time': 110,\n",
       " 'worker': 115,\n",
       " 'assigned': 7,\n",
       " 'rose': 92,\n",
       " 'hierarchy': 40,\n",
       " 'becoming': 9,\n",
       " 'general': 36,\n",
       " 'secretary': 95,\n",
       " 'appointed': 5,\n",
       " 'elected': 28,\n",
       " 'legislative': 55,\n",
       " 'assembly': 6,\n",
       " 'administration': 3,\n",
       " 'considered': 17,\n",
       " 'complicit': 15,\n",
       " 'riot': 91,\n",
       " 'criticised': 21,\n",
       " 'management': 58,\n",
       " 'crisis': 20,\n",
       " 'according': 1,\n",
       " 'official': 71,\n",
       " 'record': 88,\n",
       " 'little': 56,\n",
       " 'people': 77,\n",
       " 'killed': 52,\n",
       " 'three': 109,\n",
       " 'quarter': 85,\n",
       " 'muslim': 66,\n",
       " 'independent': 43,\n",
       " 'source': 102,\n",
       " 'estimated': 30,\n",
       " 'death': 23,\n",
       " 'mostly': 64,\n",
       " 'special': 103,\n",
       " 'investigation': 49,\n",
       " 'team': 107,\n",
       " 'supreme': 105,\n",
       " 'court': 18,\n",
       " 'found': 33,\n",
       " 'evidence': 31,\n",
       " 'initiate': 47,\n",
       " 'prosecution': 83,\n",
       " 'proceeding': 82,\n",
       " 'policy': 78,\n",
       " 'credited': 19,\n",
       " 'encouraging': 29,\n",
       " 'economic': 25,\n",
       " 'growth': 37,\n",
       " 'failing': 32,\n",
       " 'significantly': 99,\n",
       " 'improve': 42,\n",
       " 'health': 39,\n",
       " 'poverty': 80,\n",
       " 'index': 44,\n",
       " 'state': 104}"
      ]
     },
     "execution_count": 20,
     "metadata": {},
     "output_type": "execute_result"
    }
   ],
   "source": [
    "cv.vocabulary_"
   ]
  },
  {
   "cell_type": "code",
   "execution_count": 22,
   "id": "e107fba2",
   "metadata": {},
   "outputs": [
    {
     "data": {
      "text/plain": [
       "'narendra damodardas modi born september indian politician served th prime minister india since may'"
      ]
     },
     "execution_count": 22,
     "metadata": {},
     "output_type": "execute_result"
    }
   ],
   "source": [
    "new_corpus[0]"
   ]
  },
  {
   "cell_type": "code",
   "execution_count": 23,
   "id": "a5a3f182",
   "metadata": {},
   "outputs": [
    {
     "data": {
      "text/plain": [
       "array([[0, 0, 0, 0, 0, 0, 0, 0, 0, 0, 0, 0, 1, 0, 0, 0, 0, 0, 0, 0, 0, 0,\n",
       "        1, 0, 0, 0, 0, 0, 0, 0, 0, 0, 0, 0, 0, 0, 0, 0, 0, 0, 0, 0, 0, 0,\n",
       "        0, 1, 1, 0, 0, 0, 0, 0, 0, 0, 0, 0, 0, 0, 0, 0, 1, 0, 1, 1, 0, 0,\n",
       "        0, 1, 0, 0, 0, 0, 0, 0, 0, 0, 0, 0, 0, 1, 0, 1, 0, 0, 0, 0, 0, 0,\n",
       "        0, 0, 0, 0, 0, 0, 0, 0, 1, 1, 0, 0, 1, 0, 0, 0, 0, 0, 0, 0, 1, 0,\n",
       "        0, 0, 0, 0, 0, 0]], dtype=int64)"
      ]
     },
     "execution_count": 23,
     "metadata": {},
     "output_type": "execute_result"
    }
   ],
   "source": [
    "X[0].toarray()"
   ]
  },
  {
   "cell_type": "code",
   "execution_count": 45,
   "id": "e4397b32",
   "metadata": {},
   "outputs": [],
   "source": [
    "# adding n-grams\n",
    "cv2 = CountVectorizer(binary= True, ngram_range=(3, 3))\n",
    "X2 = cv2.fit_transform(new_corpus)"
   ]
  },
  {
   "cell_type": "code",
   "execution_count": 46,
   "id": "9d6011d4",
   "metadata": {},
   "outputs": [
    {
     "data": {
      "text/plain": [
       "{'narendra damodardas modi': 77,\n",
       " 'damodardas modi born': 25,\n",
       " 'modi born september': 74,\n",
       " 'born september indian': 15,\n",
       " 'september indian politician': 101,\n",
       " 'indian politician served': 51,\n",
       " 'politician served th': 88,\n",
       " 'served th prime': 102,\n",
       " 'th prime minister': 111,\n",
       " 'prime minister india': 90,\n",
       " 'minister india since': 68,\n",
       " 'india since may': 49,\n",
       " 'modi chief minister': 75,\n",
       " 'chief minister gujarat': 17,\n",
       " 'minister gujarat member': 67,\n",
       " 'gujarat member parliament': 41,\n",
       " 'member parliament mp': 64,\n",
       " 'parliament mp varanasi': 83,\n",
       " 'member bharatiya janata': 63,\n",
       " 'bharatiya janata party': 11,\n",
       " 'janata party bjp': 55,\n",
       " 'party bjp rashtriya': 84,\n",
       " 'bjp rashtriya swayamsevak': 12,\n",
       " 'rashtriya swayamsevak sangh': 95,\n",
       " 'swayamsevak sangh right': 109,\n",
       " 'sangh right wing': 100,\n",
       " 'right wing hindu': 97,\n",
       " 'wing hindu nationalist': 115,\n",
       " 'hindu nationalist paramilitary': 45,\n",
       " 'nationalist paramilitary volunteer': 78,\n",
       " 'paramilitary volunteer organisation': 82,\n",
       " 'longest serving prime': 61,\n",
       " 'serving prime minister': 103,\n",
       " 'prime minister outside': 91,\n",
       " 'minister outside indian': 69,\n",
       " 'outside indian national': 81,\n",
       " 'indian national congress': 50,\n",
       " 'modi born raised': 73,\n",
       " 'born raised vadnagar': 14,\n",
       " 'raised vadnagar northeastern': 94,\n",
       " 'vadnagar northeastern gujarat': 114,\n",
       " 'northeastern gujarat completed': 79,\n",
       " 'gujarat completed secondary': 39,\n",
       " 'completed secondary education': 18,\n",
       " 'introduced age eight': 53,\n",
       " 'age married jashodaben': 5,\n",
       " 'married jashodaben modi': 62,\n",
       " 'jashodaben modi abandoned': 56,\n",
       " 'modi abandoned soon': 70,\n",
       " 'abandoned soon publicly': 0,\n",
       " 'soon publicly acknowledging': 105,\n",
       " 'publicly acknowledging four': 92,\n",
       " 'acknowledging four decade': 2,\n",
       " 'four decade later': 36,\n",
       " 'decade later legally': 27,\n",
       " 'later legally required': 58,\n",
       " 'modi became full': 72,\n",
       " 'became full time': 9,\n",
       " 'full time worker': 37,\n",
       " 'time worker gujarat': 113,\n",
       " 'assigned bjp rose': 8,\n",
       " 'bjp rose party': 13,\n",
       " 'rose party hierarchy': 99,\n",
       " 'party hierarchy becoming': 85,\n",
       " 'hierarchy becoming general': 44,\n",
       " 'becoming general secretary': 10,\n",
       " 'modi appointed chief': 71,\n",
       " 'appointed chief minister': 6,\n",
       " 'minister gujarat elected': 66,\n",
       " 'gujarat elected legislative': 40,\n",
       " 'elected legislative assembly': 30,\n",
       " 'legislative assembly soon': 59,\n",
       " 'administration considered complicit': 3,\n",
       " 'considered complicit gujarat': 20,\n",
       " 'complicit gujarat riot': 19,\n",
       " 'gujarat riot criticised': 42,\n",
       " 'riot criticised management': 98,\n",
       " 'criticised management crisis': 24,\n",
       " 'according official record': 1,\n",
       " 'official record little': 80,\n",
       " 'record little people': 96,\n",
       " 'little people killed': 60,\n",
       " 'people killed three': 86,\n",
       " 'killed three quarter': 57,\n",
       " 'three quarter muslim': 112,\n",
       " 'quarter muslim independent': 93,\n",
       " 'muslim independent source': 76,\n",
       " 'independent source estimated': 47,\n",
       " 'source estimated death': 106,\n",
       " 'estimated death mostly': 32,\n",
       " 'death mostly muslim': 26,\n",
       " 'special investigation team': 107,\n",
       " 'investigation team appointed': 54,\n",
       " 'team appointed supreme': 110,\n",
       " 'appointed supreme court': 7,\n",
       " 'supreme court india': 108,\n",
       " 'court india found': 21,\n",
       " 'india found evidence': 48,\n",
       " 'found evidence initiate': 35,\n",
       " 'evidence initiate prosecution': 33,\n",
       " 'initiate prosecution proceeding': 52,\n",
       " 'policy chief minister': 87,\n",
       " 'chief minister credited': 16,\n",
       " 'minister credited encouraging': 65,\n",
       " 'credited encouraging economic': 22,\n",
       " 'encouraging economic growth': 31,\n",
       " 'economic growth administration': 28,\n",
       " 'growth administration criticised': 38,\n",
       " 'administration criticised failing': 4,\n",
       " 'criticised failing significantly': 23,\n",
       " 'failing significantly improve': 34,\n",
       " 'significantly improve health': 104,\n",
       " 'improve health poverty': 46,\n",
       " 'health poverty education': 43,\n",
       " 'poverty education index': 89,\n",
       " 'education index state': 29}"
      ]
     },
     "execution_count": 46,
     "metadata": {},
     "output_type": "execute_result"
    }
   ],
   "source": [
    "cv2.vocabulary_"
   ]
  },
  {
   "cell_type": "code",
   "execution_count": 47,
   "id": "90fd0c66",
   "metadata": {},
   "outputs": [
    {
     "data": {
      "text/plain": [
       "array([[0, 0, 0, 0, 0, 0, 0, 0, 0, 0, 0, 0, 0, 0, 0, 1, 0, 0, 0, 0, 0, 0,\n",
       "        0, 0, 0, 1, 0, 0, 0, 0, 0, 0, 0, 0, 0, 0, 0, 0, 0, 0, 0, 0, 0, 0,\n",
       "        0, 0, 0, 0, 0, 1, 0, 1, 0, 0, 0, 0, 0, 0, 0, 0, 0, 0, 0, 0, 0, 0,\n",
       "        0, 0, 1, 0, 0, 0, 0, 0, 1, 0, 0, 1, 0, 0, 0, 0, 0, 0, 0, 0, 0, 0,\n",
       "        1, 0, 1, 0, 0, 0, 0, 0, 0, 0, 0, 0, 0, 1, 1, 0, 0, 0, 0, 0, 0, 0,\n",
       "        0, 1, 0, 0, 0, 0]], dtype=int64)"
      ]
     },
     "execution_count": 47,
     "metadata": {},
     "output_type": "execute_result"
    }
   ],
   "source": [
    "X2[0].toarray()"
   ]
  },
  {
   "cell_type": "markdown",
   "id": "b3fa9851",
   "metadata": {},
   "source": [
    "# Term Frequency- Image Document Frequency (TF- IDF)"
   ]
  },
  {
   "cell_type": "code",
   "execution_count": 38,
   "id": "ef2b71b3",
   "metadata": {},
   "outputs": [],
   "source": [
    "from sklearn.feature_extraction.text import TfidfVectorizer"
   ]
  },
  {
   "cell_type": "code",
   "execution_count": 55,
   "id": "442a8941",
   "metadata": {},
   "outputs": [],
   "source": [
    "cv3 = TfidfVectorizer(ngram_range=(1, 1), max_features=10)\n",
    "# max_features will consider only top f(max features) based on frequency\n",
    "X3 = cv3.fit_transform(new_corpus)"
   ]
  },
  {
   "cell_type": "code",
   "execution_count": 56,
   "id": "a11d0716",
   "metadata": {},
   "outputs": [
    {
     "data": {
      "text/plain": [
       "{'modi': 7,\n",
       " 'born': 0,\n",
       " 'minister': 6,\n",
       " 'india': 5,\n",
       " 'chief': 1,\n",
       " 'gujarat': 4,\n",
       " 'party': 8,\n",
       " 'education': 3,\n",
       " 'soon': 9,\n",
       " 'criticised': 2}"
      ]
     },
     "execution_count": 56,
     "metadata": {},
     "output_type": "execute_result"
    }
   ],
   "source": [
    "cv3.vocabulary_"
   ]
  },
  {
   "cell_type": "code",
   "execution_count": 57,
   "id": "9ad926de",
   "metadata": {},
   "outputs": [
    {
     "data": {
      "text/plain": [
       "array([[0.57780101, 0.        , 0.        , 0.        , 0.        ,\n",
       "        0.57780101, 0.42431924, 0.39018606, 0.        , 0.        ]])"
      ]
     },
     "execution_count": 57,
     "metadata": {},
     "output_type": "execute_result"
    }
   ],
   "source": [
    "X3[0].toarray()"
   ]
  },
  {
   "cell_type": "code",
   "execution_count": null,
   "id": "7314e23f",
   "metadata": {},
   "outputs": [],
   "source": []
  }
 ],
 "metadata": {
  "kernelspec": {
   "display_name": "Python 3 (ipykernel)",
   "language": "python",
   "name": "python3"
  },
  "language_info": {
   "codemirror_mode": {
    "name": "ipython",
    "version": 3
   },
   "file_extension": ".py",
   "mimetype": "text/x-python",
   "name": "python",
   "nbconvert_exporter": "python",
   "pygments_lexer": "ipython3",
   "version": "3.11.7"
  }
 },
 "nbformat": 4,
 "nbformat_minor": 5
}
