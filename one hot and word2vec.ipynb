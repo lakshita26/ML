{
 "cells": [
  {
   "cell_type": "code",
   "execution_count": 9,
   "id": "14c2d57b",
   "metadata": {},
   "outputs": [],
   "source": [
    "sent=['the glass of milk',\n",
    "      'the glass of juice',\n",
    "      'the cup of tea',\n",
    "      'I am a good boy',\n",
    "      'I am a good developer',\n",
    "      'understand the meaning of words',\n",
    "      'your videos are good']"
   ]
  },
  {
   "cell_type": "markdown",
   "id": "78e2fc82",
   "metadata": {},
   "source": [
    "**one hot encoding**"
   ]
  },
  {
   "cell_type": "code",
   "execution_count": 10,
   "id": "fcad603a",
   "metadata": {},
   "outputs": [
    {
     "name": "stdout",
     "output_type": "stream",
     "text": [
      "[[76, 331, 439, 348], [76, 331, 439, 238], [76, 197, 439, 192], [384, 171, 437, 156, 424], [384, 171, 437, 156, 399], [302, 76, 448, 439, 17], [379, 94, 426, 156]]\n"
     ]
    }
   ],
   "source": [
    "voc_size = 500   \n",
    "# No of unique words\n",
    "\n",
    "from tensorflow.keras.preprocessing.text import one_hot\n",
    "\n",
    "onehot_repr=[one_hot(words, voc_size)for words in sent] \n",
    "print(onehot_repr)\n",
    "# we are using this because he have our own data\n",
    "# got the index where the index is 1(index of the word)"
   ]
  },
  {
   "cell_type": "code",
   "execution_count": 5,
   "id": "f87d53b5",
   "metadata": {},
   "outputs": [
    {
     "name": "stdout",
     "output_type": "stream",
     "text": [
      "[[  0   0   0   0  76 331 439 348]\n",
      " [  0  76 331 439 401 197 439 192]\n",
      " [  0   0   0 384 171 437 156 424]\n",
      " [  0   0   0 384 171 437 156 399]\n",
      " [  0   0   0 302  76 448 439  17]\n",
      " [  0   0   0   0 379  94 426 156]]\n"
     ]
    }
   ],
   "source": [
    "# pre padding\n",
    "# to make all the sentences of same length that is required for training\n",
    "from tensorflow.keras.preprocessing.sequence import pad_sequences\n",
    "\n",
    "sent_length = 8\n",
    "embedded_docs = pad_sequences(onehot_repr, padding='pre',\n",
    "                              maxlen=sent_length)\n",
    "print(embedded_docs)"
   ]
  },
  {
   "cell_type": "markdown",
   "id": "39d7059a",
   "metadata": {},
   "source": [
    "**word2vec**"
   ]
  },
  {
   "cell_type": "code",
   "execution_count": 6,
   "id": "075da6f6",
   "metadata": {},
   "outputs": [],
   "source": [
    "dim = 10\n",
    "# dimention of feature representation to convert word2vec"
   ]
  },
  {
   "cell_type": "code",
   "execution_count": 11,
   "id": "300c90b6",
   "metadata": {},
   "outputs": [],
   "source": [
    "from tensorflow.keras.layers import Embedding\n",
    "from tensorflow.keras.models import Sequential\n",
    "\n",
    "model = Sequential()\n",
    "\n",
    "model.add(Embedding(voc_size, dim, input_length=sent_length))\n",
    "# Embedding layer words similar like word2vec\n",
    "\n",
    "model.compile('adam','mse')"
   ]
  },
  {
   "cell_type": "code",
   "execution_count": 12,
   "id": "fefd4da6",
   "metadata": {},
   "outputs": [
    {
     "data": {
      "text/html": [
       "<pre style=\"white-space:pre;overflow-x:auto;line-height:normal;font-family:Menlo,'DejaVu Sans Mono',consolas,'Courier New',monospace\"><span style=\"font-weight: bold\">Model: \"sequential_1\"</span>\n",
       "</pre>\n"
      ],
      "text/plain": [
       "\u001b[1mModel: \"sequential_1\"\u001b[0m\n"
      ]
     },
     "metadata": {},
     "output_type": "display_data"
    },
    {
     "data": {
      "text/html": [
       "<pre style=\"white-space:pre;overflow-x:auto;line-height:normal;font-family:Menlo,'DejaVu Sans Mono',consolas,'Courier New',monospace\">┏━━━━━━━━━━━━━━━━━━━━━━━━━━━━━━━━━━━━━━┳━━━━━━━━━━━━━━━━━━━━━━━━━━━━━┳━━━━━━━━━━━━━━━━━┓\n",
       "┃<span style=\"font-weight: bold\"> Layer (type)                         </span>┃<span style=\"font-weight: bold\"> Output Shape                </span>┃<span style=\"font-weight: bold\">         Param # </span>┃\n",
       "┡━━━━━━━━━━━━━━━━━━━━━━━━━━━━━━━━━━━━━━╇━━━━━━━━━━━━━━━━━━━━━━━━━━━━━╇━━━━━━━━━━━━━━━━━┩\n",
       "│ embedding_1 (<span style=\"color: #0087ff; text-decoration-color: #0087ff\">Embedding</span>)              │ ?                           │     <span style=\"color: #00af00; text-decoration-color: #00af00\">0</span> (unbuilt) │\n",
       "└──────────────────────────────────────┴─────────────────────────────┴─────────────────┘\n",
       "</pre>\n"
      ],
      "text/plain": [
       "┏━━━━━━━━━━━━━━━━━━━━━━━━━━━━━━━━━━━━━━┳━━━━━━━━━━━━━━━━━━━━━━━━━━━━━┳━━━━━━━━━━━━━━━━━┓\n",
       "┃\u001b[1m \u001b[0m\u001b[1mLayer (type)                        \u001b[0m\u001b[1m \u001b[0m┃\u001b[1m \u001b[0m\u001b[1mOutput Shape               \u001b[0m\u001b[1m \u001b[0m┃\u001b[1m \u001b[0m\u001b[1m        Param #\u001b[0m\u001b[1m \u001b[0m┃\n",
       "┡━━━━━━━━━━━━━━━━━━━━━━━━━━━━━━━━━━━━━━╇━━━━━━━━━━━━━━━━━━━━━━━━━━━━━╇━━━━━━━━━━━━━━━━━┩\n",
       "│ embedding_1 (\u001b[38;5;33mEmbedding\u001b[0m)              │ ?                           │     \u001b[38;5;34m0\u001b[0m (unbuilt) │\n",
       "└──────────────────────────────────────┴─────────────────────────────┴─────────────────┘\n"
      ]
     },
     "metadata": {},
     "output_type": "display_data"
    },
    {
     "data": {
      "text/html": [
       "<pre style=\"white-space:pre;overflow-x:auto;line-height:normal;font-family:Menlo,'DejaVu Sans Mono',consolas,'Courier New',monospace\"><span style=\"font-weight: bold\"> Total params: </span><span style=\"color: #00af00; text-decoration-color: #00af00\">0</span> (0.00 B)\n",
       "</pre>\n"
      ],
      "text/plain": [
       "\u001b[1m Total params: \u001b[0m\u001b[38;5;34m0\u001b[0m (0.00 B)\n"
      ]
     },
     "metadata": {},
     "output_type": "display_data"
    },
    {
     "data": {
      "text/html": [
       "<pre style=\"white-space:pre;overflow-x:auto;line-height:normal;font-family:Menlo,'DejaVu Sans Mono',consolas,'Courier New',monospace\"><span style=\"font-weight: bold\"> Trainable params: </span><span style=\"color: #00af00; text-decoration-color: #00af00\">0</span> (0.00 B)\n",
       "</pre>\n"
      ],
      "text/plain": [
       "\u001b[1m Trainable params: \u001b[0m\u001b[38;5;34m0\u001b[0m (0.00 B)\n"
      ]
     },
     "metadata": {},
     "output_type": "display_data"
    },
    {
     "data": {
      "text/html": [
       "<pre style=\"white-space:pre;overflow-x:auto;line-height:normal;font-family:Menlo,'DejaVu Sans Mono',consolas,'Courier New',monospace\"><span style=\"font-weight: bold\"> Non-trainable params: </span><span style=\"color: #00af00; text-decoration-color: #00af00\">0</span> (0.00 B)\n",
       "</pre>\n"
      ],
      "text/plain": [
       "\u001b[1m Non-trainable params: \u001b[0m\u001b[38;5;34m0\u001b[0m (0.00 B)\n"
      ]
     },
     "metadata": {},
     "output_type": "display_data"
    }
   ],
   "source": [
    "model.summary()"
   ]
  },
  {
   "cell_type": "code",
   "execution_count": 13,
   "id": "6e2202aa",
   "metadata": {},
   "outputs": [
    {
     "data": {
      "text/plain": [
       "array([  0,   0,   0,   0,  76, 331, 439, 348])"
      ]
     },
     "execution_count": 13,
     "metadata": {},
     "output_type": "execute_result"
    }
   ],
   "source": [
    "embedded_docs[0]\n",
    "# first sentence"
   ]
  },
  {
   "cell_type": "code",
   "execution_count": 15,
   "id": "fdef9f25",
   "metadata": {},
   "outputs": [
    {
     "name": "stdout",
     "output_type": "stream",
     "text": [
      "\u001b[1m1/1\u001b[0m \u001b[32m━━━━━━━━━━━━━━━━━━━━\u001b[0m\u001b[37m\u001b[0m \u001b[1m0s\u001b[0m 46ms/step\n",
      "[[ 0.01583841  0.00276133  0.03788683 -0.01635503 -0.01590426  0.02925693\n",
      "   0.03613264  0.02328633  0.02882329 -0.02856071]\n",
      " [ 0.01583841  0.00276133  0.03788683 -0.01635503 -0.01590426  0.02925693\n",
      "   0.03613264  0.02328633  0.02882329 -0.02856071]\n",
      " [ 0.01583841  0.00276133  0.03788683 -0.01635503 -0.01590426  0.02925693\n",
      "   0.03613264  0.02328633  0.02882329 -0.02856071]\n",
      " [ 0.01583841  0.00276133  0.03788683 -0.01635503 -0.01590426  0.02925693\n",
      "   0.03613264  0.02328633  0.02882329 -0.02856071]\n",
      " [ 0.03536666 -0.02224212 -0.00036424 -0.04528677  0.00294258  0.03983039\n",
      "   0.04014567  0.00716295  0.01546675 -0.04068042]\n",
      " [-0.02331377 -0.04981285 -0.01929803 -0.01589556  0.04950065  0.01634588\n",
      "  -0.00524304 -0.02425437 -0.03618603 -0.04363134]\n",
      " [-0.02879289  0.04625716  0.0019534   0.0049173  -0.0107322  -0.03816398\n",
      "   0.00245892 -0.02275388  0.01318635  0.00494009]\n",
      " [-0.04882938 -0.00031681 -0.0136813  -0.0321844  -0.04321419  0.00050563\n",
      "  -0.01531817 -0.02243549  0.02850356  0.00106353]]\n"
     ]
    }
   ],
   "source": [
    "print(model.predict(embedded_docs[0]))\n",
    "# each word will be represented in 10 dimentions"
   ]
  },
  {
   "cell_type": "code",
   "execution_count": null,
   "id": "994ab5cd",
   "metadata": {},
   "outputs": [],
   "source": []
  }
 ],
 "metadata": {
  "kernelspec": {
   "display_name": "Python 3 (ipykernel)",
   "language": "python",
   "name": "python3"
  },
  "language_info": {
   "codemirror_mode": {
    "name": "ipython",
    "version": 3
   },
   "file_extension": ".py",
   "mimetype": "text/x-python",
   "name": "python",
   "nbconvert_exporter": "python",
   "pygments_lexer": "ipython3",
   "version": "3.11.7"
  }
 },
 "nbformat": 4,
 "nbformat_minor": 5
}
